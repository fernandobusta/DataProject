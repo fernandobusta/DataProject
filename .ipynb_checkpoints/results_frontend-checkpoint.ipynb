{
 "cells": [
  {
   "cell_type": "code",
   "execution_count": 12,
   "id": "191b020f-7237-45a3-b9a9-59ba7eb226c7",
   "metadata": {},
   "outputs": [],
   "source": [
    "import pandas as pd\n",
    "from results import *"
   ]
  },
  {
   "cell_type": "code",
   "execution_count": 17,
   "id": "4b41e442-7e18-43e4-97dd-fbf7f609e213",
   "metadata": {},
   "outputs": [
    {
     "ename": "NameError",
     "evalue": "name 'results' is not defined",
     "output_type": "error",
     "traceback": [
      "\u001b[0;31m---------------------------------------------------------------------------\u001b[0m",
      "\u001b[0;31mNameError\u001b[0m                                 Traceback (most recent call last)",
      "Cell \u001b[0;32mIn [17], line 1\u001b[0m\n\u001b[0;32m----> 1\u001b[0m eg_place \u001b[38;5;241m=\u001b[39m results\u001b[38;5;241m.\u001b[39mpassSearch()[\u001b[38;5;124m'\u001b[39m\u001b[38;5;124mresults\u001b[39m\u001b[38;5;124m'\u001b[39m][\u001b[38;5;241m0\u001b[39m]\n\u001b[1;32m      2\u001b[0m eg_place\n",
      "\u001b[0;31mNameError\u001b[0m: name 'results' is not defined"
     ]
    }
   ],
   "source": [
    "eg_place = passSearch()['results'][0]\n",
    "eg_place"
   ]
  },
  {
   "cell_type": "code",
   "execution_count": 14,
   "id": "65239700-a367-4ae5-9803-8074c127365b",
   "metadata": {},
   "outputs": [
    {
     "data": {
      "text/plain": [
       "'ChIJrVO2iWhEXUgRkKJMnRdAmSc'"
      ]
     },
     "execution_count": 14,
     "metadata": {},
     "output_type": "execute_result"
    }
   ],
   "source": [
    "my_place_id = eg_place['place_id']\n",
    "my_place_id"
   ]
  },
  {
   "cell_type": "code",
   "execution_count": 16,
   "id": "9b004bdd-81d9-4d04-a592-5c575e25e049",
   "metadata": {},
   "outputs": [
    {
     "ename": "NameError",
     "evalue": "name 'plSearch' is not defined",
     "output_type": "error",
     "traceback": [
      "\u001b[0;31m---------------------------------------------------------------------------\u001b[0m",
      "\u001b[0;31mNameError\u001b[0m                                 Traceback (most recent call last)",
      "Cell \u001b[0;32mIn [16], line 1\u001b[0m\n\u001b[0;32m----> 1\u001b[0m pl_search \u001b[38;5;241m=\u001b[39m plSearch()\n",
      "\u001b[0;31mNameError\u001b[0m: name 'plSearch' is not defined"
     ]
    }
   ],
   "source": [
    "pl_search = plSearch()"
   ]
  },
  {
   "cell_type": "code",
   "execution_count": null,
   "id": "4e519f3e-01e0-4655-bf8f-a3980033a7e0",
   "metadata": {},
   "outputs": [],
   "source": []
  }
 ],
 "metadata": {
  "kernelspec": {
   "display_name": "Python 3 (ipykernel)",
   "language": "python",
   "name": "python3"
  },
  "language_info": {
   "codemirror_mode": {
    "name": "ipython",
    "version": 3
   },
   "file_extension": ".py",
   "mimetype": "text/x-python",
   "name": "python",
   "nbconvert_exporter": "python",
   "pygments_lexer": "ipython3",
   "version": "3.8.13"
  }
 },
 "nbformat": 4,
 "nbformat_minor": 5
}
