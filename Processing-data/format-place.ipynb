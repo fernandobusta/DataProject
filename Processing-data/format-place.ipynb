{
 "cells": [
  {
   "cell_type": "code",
   "execution_count": 7,
   "id": "c801c366-d36d-48aa-a3d4-ba61eaeed92b",
   "metadata": {},
   "outputs": [],
   "source": [
    "#import googlemaps\n",
    "#import pprint\n",
    "import time\n",
    "import sys\n",
    "import pandas as pd\n",
    "import json\n",
    "import datetime"
   ]
  },
  {
   "cell_type": "code",
   "execution_count": 4,
   "id": "60c1a757-157b-49ad-aa60-da4d0fc1ae7d",
   "metadata": {},
   "outputs": [],
   "source": [
    "from apiK import *"
   ]
  },
  {
   "cell_type": "code",
   "execution_count": 5,
   "id": "a0400700-e49b-4333-af83-a378859a59a0",
   "metadata": {},
   "outputs": [],
   "source": [
    "# This is the unique id of a place in Google maps\n",
    "place_id = 'ChIJrVO2iWhEXUgRkKJMnRdAmSc'"
   ]
  },
  {
   "cell_type": "code",
   "execution_count": 6,
   "id": "4a3e2a7f-6c6a-40ff-a3ad-cd81b1752089",
   "metadata": {},
   "outputs": [],
   "source": [
    "# Define our API key\n",
    "API_KEY = api_key()"
   ]
  },
  {
   "cell_type": "code",
   "execution_count": 7,
   "id": "b14b388d-5d93-4904-9e13-df6215e705e1",
   "metadata": {},
   "outputs": [],
   "source": [
    "# Define our clients\n",
    "gmaps = googlemaps.Client(key = API_KEY) # authenticate to make a request"
   ]
  },
  {
   "cell_type": "code",
   "execution_count": 10,
   "id": "fcbde9e4-1991-4121-a873-056183f46831",
   "metadata": {},
   "outputs": [],
   "source": [
    "# Define the fields we want sent back to us\n",
    "# page to see fields: https://developers.google.com/maps/documentation/places/web-service/details\n",
    "my_fields = ['business_status', 'formatted_address', 'name', 'opening_hours', 'plus_code', 'price_level', 'rating','review', 'type', 'url', 'user_ratings_total', 'vicinity', 'website']"
   ]
  },
  {
   "cell_type": "code",
   "execution_count": 11,
   "id": "7aad5aa4-8968-4487-8d3e-6cb7dfd8d70e",
   "metadata": {},
   "outputs": [],
   "source": [
    "# make a request for the details\n",
    "place_details = gmaps.place(place_id = place_id, fields = my_fields)"
   ]
  },
  {
   "cell_type": "code",
   "execution_count": 12,
   "id": "317afb14-1bf7-4593-aa6e-40b1ecaaf65f",
   "metadata": {},
   "outputs": [
    {
     "data": {
      "text/plain": [
       "{'html_attributions': [],\n",
       " 'result': {'business_status': 'OPERATIONAL',\n",
       "  'formatted_address': 'Main St, Ballyknockan, Leighlinbridge, Co. Carlow, R93 E189, Ireland',\n",
       "  'name': 'Lord Bagenal Inn',\n",
       "  'opening_hours': {'open_now': True,\n",
       "   'periods': [{'open': {'day': 0, 'time': '0000'}}],\n",
       "   'weekday_text': ['Monday: Open 24 hours',\n",
       "    'Tuesday: Open 24 hours',\n",
       "    'Wednesday: Open 24 hours',\n",
       "    'Thursday: Open 24 hours',\n",
       "    'Friday: Open 24 hours',\n",
       "    'Saturday: Open 24 hours',\n",
       "    'Sunday: Open 24 hours']},\n",
       "  'plus_code': {'compound_code': 'P2PF+H8 Leighlinbridge, County Carlow, Ireland',\n",
       "   'global_code': '9C4MP2PF+H8'},\n",
       "  'rating': 4.5,\n",
       "  'reviews': [{'author_name': 'moonshineminx1',\n",
       "    'author_url': 'https://www.google.com/maps/contrib/109720901335390464538/reviews',\n",
       "    'language': 'en',\n",
       "    'original_language': 'en',\n",
       "    'profile_photo_url': 'https://lh3.googleusercontent.com/a/AEdFTp5oc7z1RB5O_w8lAoxS5Mz-GS5VEoGYjVEamLJ_=s128-c0x00000000-cc-rp-mo',\n",
       "    'rating': 5,\n",
       "    'relative_time_description': '5 months ago',\n",
       "    'text': \"We had a first class meal - both took the battered hake. The fish was delicious, large portion, light batter, really enjoyed it. The surroundings are full of character, the meal arrived quickly and the staff were really helpful and attentive. We'll definately go back next time we're in the area.\",\n",
       "    'time': 1661808204,\n",
       "    'translated': False},\n",
       "   {'author_name': 'Amy Brennan',\n",
       "    'author_url': 'https://www.google.com/maps/contrib/101208999719543819132/reviews',\n",
       "    'language': 'en',\n",
       "    'original_language': 'en',\n",
       "    'profile_photo_url': 'https://lh3.googleusercontent.com/a-/AD5-WCmzReTr_Os5HJFS7n0-StUwF46DFgdnGeLctHCdMA=s128-c0x00000000-cc-rp-mo',\n",
       "    'rating': 5,\n",
       "    'relative_time_description': '3 months ago',\n",
       "    'text': 'A world class hotel! Beautiful and classically decorated. Service was outstanding. Staff were\\nprofessional, attentive & kind; went above and beyond to cater to us. Food was delicious, bed super comfy and facilities brilliant. Will be back!',\n",
       "    'time': 1669029025,\n",
       "    'translated': False},\n",
       "   {'author_name': 'Martin Kyle Jensen Kellerman',\n",
       "    'author_url': 'https://www.google.com/maps/contrib/100432243203795625555/reviews',\n",
       "    'language': 'en',\n",
       "    'original_language': 'en',\n",
       "    'profile_photo_url': 'https://lh3.googleusercontent.com/a-/AD5-WCmlPf6sZBGl8Zw9Da2GLvSUyfp-F4Ia7kaeW-toPw=s128-c0x00000000-cc-rp-mo',\n",
       "    'rating': 5,\n",
       "    'relative_time_description': '5 months ago',\n",
       "    'text': 'Always a pleasure to visit. The restaurant has amazing staff. Excellent choices on the menu with fresh produce. You can see a lot of love and attention that goes into their menus, taste and service',\n",
       "    'time': 1663083430,\n",
       "    'translated': False},\n",
       "   {'author_name': 'Robert McGivern',\n",
       "    'author_url': 'https://www.google.com/maps/contrib/112588598986974491135/reviews',\n",
       "    'language': 'en',\n",
       "    'original_language': 'en',\n",
       "    'profile_photo_url': 'https://lh3.googleusercontent.com/a-/AD5-WCnNYBQYQ4ndnAup1wIb0sVNBxsEhUtzLu24BN77=s128-c0x00000000-cc-rp-mo-ba3',\n",
       "    'rating': 4,\n",
       "    'relative_time_description': '4 months ago',\n",
       "    'text': 'Spent a week long break in the area,\\nand were here three times for food.\\nSunday carvery is quite good, also evening menu, which we sampled twice.\\nStaff very nice and helpful.',\n",
       "    'time': 1664272635,\n",
       "    'translated': False},\n",
       "   {'author_name': 'Eileen Carr',\n",
       "    'author_url': 'https://www.google.com/maps/contrib/115481605440957449984/reviews',\n",
       "    'language': 'en',\n",
       "    'original_language': 'en',\n",
       "    'profile_photo_url': 'https://lh3.googleusercontent.com/a/AEdFTp5j4rd1Tm8iSe8rqO366WXsCHbTlJrPiuCoJopy=s128-c0x00000000-cc-rp-mo',\n",
       "    'rating': 4,\n",
       "    'relative_time_description': '5 months ago',\n",
       "    'text': 'Great food & service. Pleasant staff. I had the Thai sea bass - really good -  would have loved a few stir fried veg with it but the fish was yummy.',\n",
       "    'time': 1663533414,\n",
       "    'translated': False}],\n",
       "  'types': ['cafe',\n",
       "   'bar',\n",
       "   'lodging',\n",
       "   'restaurant',\n",
       "   'point_of_interest',\n",
       "   'food',\n",
       "   'establishment'],\n",
       "  'url': 'https://maps.google.com/?cid=2853382309083390608',\n",
       "  'user_ratings_total': 1418,\n",
       "  'vicinity': 'Main Street, Leighlinbridge',\n",
       "  'website': 'http://www.lordbagenal.com/'},\n",
       " 'status': 'OK'}"
      ]
     },
     "execution_count": 12,
     "metadata": {},
     "output_type": "execute_result"
    }
   ],
   "source": [
    "# This is what the call gives back to us\n",
    "place_details"
   ]
  },
  {
   "cell_type": "code",
   "execution_count": 4,
   "id": "de31d54a-105b-4498-a72a-5727556d1219",
   "metadata": {},
   "outputs": [],
   "source": [
    "# Saving everything in results, to not run the call again\n",
    "fetch_result = {'html_attributions': [],\n",
    " 'result': {'business_status': 'OPERATIONAL',\n",
    "  'formatted_address': 'Main St, Ballyknockan, Leighlinbridge, Co. Carlow, R93 E189, Ireland',\n",
    "  'name': 'Lord Bagenal Inn',\n",
    "  'opening_hours': {'open_now': True,\n",
    "   'periods': [{'open': {'day': 0, 'time': '0000'}}],\n",
    "   'weekday_text': ['Monday: Open 24 hours',\n",
    "    'Tuesday: Open 24 hours',\n",
    "    'Wednesday: Open 24 hours',\n",
    "    'Thursday: Open 24 hours',\n",
    "    'Friday: Open 24 hours',\n",
    "    'Saturday: Open 24 hours',\n",
    "    'Sunday: Open 24 hours']},\n",
    "  'plus_code': {'compound_code': 'P2PF+H8 Leighlinbridge, County Carlow, Ireland',\n",
    "   'global_code': '9C4MP2PF+H8'},\n",
    "  'rating': 4.5,\n",
    "  'reviews': [{'author_name': 'moonshineminx1',\n",
    "    'author_url': 'https://www.google.com/maps/contrib/109720901335390464538/reviews',\n",
    "    'language': 'en',\n",
    "    'original_language': 'en',\n",
    "    'profile_photo_url': 'https://lh3.googleusercontent.com/a/AEdFTp5oc7z1RB5O_w8lAoxS5Mz-GS5VEoGYjVEamLJ_=s128-c0x00000000-cc-rp-mo',\n",
    "    'rating': 5,\n",
    "    'relative_time_description': '5 months ago',\n",
    "    'text': \"We had a first class meal - both took the battered hake. The fish was delicious, large portion, light batter, really enjoyed it. The surroundings are full of character, the meal arrived quickly and the staff were really helpful and attentive. We'll definately go back next time we're in the area.\",\n",
    "    'time': 1661808204,\n",
    "    'translated': False},\n",
    "   {'author_name': 'Amy Brennan',\n",
    "    'author_url': 'https://www.google.com/maps/contrib/101208999719543819132/reviews',\n",
    "    'language': 'en',\n",
    "    'original_language': 'en',\n",
    "    'profile_photo_url': 'https://lh3.googleusercontent.com/a-/AD5-WCmzReTr_Os5HJFS7n0-StUwF46DFgdnGeLctHCdMA=s128-c0x00000000-cc-rp-mo',\n",
    "    'rating': 5,\n",
    "    'relative_time_description': '3 months ago',\n",
    "    'text': 'A world class hotel! Beautiful and classically decorated. Service was outstanding. Staff were\\nprofessional, attentive & kind; went above and beyond to cater to us. Food was delicious, bed super comfy and facilities brilliant. Will be back!',\n",
    "    'time': 1669029025,\n",
    "    'translated': False},\n",
    "   {'author_name': 'Martin Kyle Jensen Kellerman',\n",
    "    'author_url': 'https://www.google.com/maps/contrib/100432243203795625555/reviews',\n",
    "    'language': 'en',\n",
    "    'original_language': 'en',\n",
    "    'profile_photo_url': 'https://lh3.googleusercontent.com/a-/AD5-WCmlPf6sZBGl8Zw9Da2GLvSUyfp-F4Ia7kaeW-toPw=s128-c0x00000000-cc-rp-mo',\n",
    "    'rating': 5,\n",
    "    'relative_time_description': '5 months ago',\n",
    "    'text': 'Always a pleasure to visit. The restaurant has amazing staff. Excellent choices on the menu with fresh produce. You can see a lot of love and attention that goes into their menus, taste and service',\n",
    "    'time': 1663083430,\n",
    "    'translated': False},\n",
    "   {'author_name': 'Robert McGivern',\n",
    "    'author_url': 'https://www.google.com/maps/contrib/112588598986974491135/reviews',\n",
    "    'language': 'en',\n",
    "    'original_language': 'en',\n",
    "    'profile_photo_url': 'https://lh3.googleusercontent.com/a-/AD5-WCnNYBQYQ4ndnAup1wIb0sVNBxsEhUtzLu24BN77=s128-c0x00000000-cc-rp-mo-ba3',\n",
    "    'rating': 4,\n",
    "    'relative_time_description': '4 months ago',\n",
    "    'text': 'Spent a week long break in the area,\\nand were here three times for food.\\nSunday carvery is quite good, also evening menu, which we sampled twice.\\nStaff very nice and helpful.',\n",
    "    'time': 1664272635,\n",
    "    'translated': False},\n",
    "   {'author_name': 'Eileen Carr',\n",
    "    'author_url': 'https://www.google.com/maps/contrib/115481605440957449984/reviews',\n",
    "    'language': 'en',\n",
    "    'original_language': 'en',\n",
    "    'profile_photo_url': 'https://lh3.googleusercontent.com/a/AEdFTp5j4rd1Tm8iSe8rqO366WXsCHbTlJrPiuCoJopy=s128-c0x00000000-cc-rp-mo',\n",
    "    'rating': 4,\n",
    "    'relative_time_description': '5 months ago',\n",
    "    'text': 'Great food & service. Pleasant staff. I had the Thai sea bass - really good -  would have loved a few stir fried veg with it but the fish was yummy.',\n",
    "    'time': 1663533414,\n",
    "    'translated': False}],\n",
    "  'types': ['cafe',\n",
    "   'bar',\n",
    "   'lodging',\n",
    "   'restaurant',\n",
    "   'point_of_interest',\n",
    "   'food',\n",
    "   'establishment'],\n",
    "  'url': 'https://maps.google.com/?cid=2853382309083390608',\n",
    "  'user_ratings_total': 1418,\n",
    "  'vicinity': 'Main Street, Leighlinbridge',\n",
    "  'website': 'http://www.lordbagenal.com/'},\n",
    " 'status': 'OK'}"
   ]
  },
  {
   "cell_type": "code",
   "execution_count": 6,
   "id": "896c57ef-318d-458b-9024-606cd3e02834",
   "metadata": {},
   "outputs": [
    {
     "data": {
      "text/plain": [
       "{'html_attributions': [],\n",
       " 'result': {'business_status': 'OPERATIONAL',\n",
       "  'formatted_address': 'Main St, Ballyknockan, Leighlinbridge, Co. Carlow, R93 E189, Ireland',\n",
       "  'name': 'Lord Bagenal Inn',\n",
       "  'opening_hours': {'open_now': True,\n",
       "   'periods': [{'open': {'day': 0, 'time': '0000'}}],\n",
       "   'weekday_text': ['Monday: Open 24 hours',\n",
       "    'Tuesday: Open 24 hours',\n",
       "    'Wednesday: Open 24 hours',\n",
       "    'Thursday: Open 24 hours',\n",
       "    'Friday: Open 24 hours',\n",
       "    'Saturday: Open 24 hours',\n",
       "    'Sunday: Open 24 hours']},\n",
       "  'plus_code': {'compound_code': 'P2PF+H8 Leighlinbridge, County Carlow, Ireland',\n",
       "   'global_code': '9C4MP2PF+H8'},\n",
       "  'rating': 4.5,\n",
       "  'reviews': [{'author_name': 'moonshineminx1',\n",
       "    'author_url': 'https://www.google.com/maps/contrib/109720901335390464538/reviews',\n",
       "    'language': 'en',\n",
       "    'original_language': 'en',\n",
       "    'profile_photo_url': 'https://lh3.googleusercontent.com/a/AEdFTp5oc7z1RB5O_w8lAoxS5Mz-GS5VEoGYjVEamLJ_=s128-c0x00000000-cc-rp-mo',\n",
       "    'rating': 5,\n",
       "    'relative_time_description': '5 months ago',\n",
       "    'text': \"We had a first class meal - both took the battered hake. The fish was delicious, large portion, light batter, really enjoyed it. The surroundings are full of character, the meal arrived quickly and the staff were really helpful and attentive. We'll definately go back next time we're in the area.\",\n",
       "    'time': 1661808204,\n",
       "    'translated': False},\n",
       "   {'author_name': 'Amy Brennan',\n",
       "    'author_url': 'https://www.google.com/maps/contrib/101208999719543819132/reviews',\n",
       "    'language': 'en',\n",
       "    'original_language': 'en',\n",
       "    'profile_photo_url': 'https://lh3.googleusercontent.com/a-/AD5-WCmzReTr_Os5HJFS7n0-StUwF46DFgdnGeLctHCdMA=s128-c0x00000000-cc-rp-mo',\n",
       "    'rating': 5,\n",
       "    'relative_time_description': '3 months ago',\n",
       "    'text': 'A world class hotel! Beautiful and classically decorated. Service was outstanding. Staff were\\nprofessional, attentive & kind; went above and beyond to cater to us. Food was delicious, bed super comfy and facilities brilliant. Will be back!',\n",
       "    'time': 1669029025,\n",
       "    'translated': False},\n",
       "   {'author_name': 'Martin Kyle Jensen Kellerman',\n",
       "    'author_url': 'https://www.google.com/maps/contrib/100432243203795625555/reviews',\n",
       "    'language': 'en',\n",
       "    'original_language': 'en',\n",
       "    'profile_photo_url': 'https://lh3.googleusercontent.com/a-/AD5-WCmlPf6sZBGl8Zw9Da2GLvSUyfp-F4Ia7kaeW-toPw=s128-c0x00000000-cc-rp-mo',\n",
       "    'rating': 5,\n",
       "    'relative_time_description': '5 months ago',\n",
       "    'text': 'Always a pleasure to visit. The restaurant has amazing staff. Excellent choices on the menu with fresh produce. You can see a lot of love and attention that goes into their menus, taste and service',\n",
       "    'time': 1663083430,\n",
       "    'translated': False},\n",
       "   {'author_name': 'Robert McGivern',\n",
       "    'author_url': 'https://www.google.com/maps/contrib/112588598986974491135/reviews',\n",
       "    'language': 'en',\n",
       "    'original_language': 'en',\n",
       "    'profile_photo_url': 'https://lh3.googleusercontent.com/a-/AD5-WCnNYBQYQ4ndnAup1wIb0sVNBxsEhUtzLu24BN77=s128-c0x00000000-cc-rp-mo-ba3',\n",
       "    'rating': 4,\n",
       "    'relative_time_description': '4 months ago',\n",
       "    'text': 'Spent a week long break in the area,\\nand were here three times for food.\\nSunday carvery is quite good, also evening menu, which we sampled twice.\\nStaff very nice and helpful.',\n",
       "    'time': 1664272635,\n",
       "    'translated': False},\n",
       "   {'author_name': 'Eileen Carr',\n",
       "    'author_url': 'https://www.google.com/maps/contrib/115481605440957449984/reviews',\n",
       "    'language': 'en',\n",
       "    'original_language': 'en',\n",
       "    'profile_photo_url': 'https://lh3.googleusercontent.com/a/AEdFTp5j4rd1Tm8iSe8rqO366WXsCHbTlJrPiuCoJopy=s128-c0x00000000-cc-rp-mo',\n",
       "    'rating': 4,\n",
       "    'relative_time_description': '5 months ago',\n",
       "    'text': 'Great food & service. Pleasant staff. I had the Thai sea bass - really good -  would have loved a few stir fried veg with it but the fish was yummy.',\n",
       "    'time': 1663533414,\n",
       "    'translated': False}],\n",
       "  'types': ['cafe',\n",
       "   'bar',\n",
       "   'lodging',\n",
       "   'restaurant',\n",
       "   'point_of_interest',\n",
       "   'food',\n",
       "   'establishment'],\n",
       "  'url': 'https://maps.google.com/?cid=2853382309083390608',\n",
       "  'user_ratings_total': 1418,\n",
       "  'vicinity': 'Main Street, Leighlinbridge',\n",
       "  'website': 'http://www.lordbagenal.com/'},\n",
       " 'status': 'OK'}"
      ]
     },
     "execution_count": 6,
     "metadata": {},
     "output_type": "execute_result"
    }
   ],
   "source": [
    "fetch_result"
   ]
  },
  {
   "cell_type": "code",
   "execution_count": 7,
   "id": "261f7213-740f-4f33-b5f5-838cbeca1105",
   "metadata": {},
   "outputs": [
    {
     "name": "stdout",
     "output_type": "stream",
     "text": [
      "html_attributions\n",
      "result\n",
      "status\n"
     ]
    }
   ],
   "source": [
    "# Check the values of the place fetch \n",
    "for res in fetch_result:\n",
    "    print(res)"
   ]
  },
  {
   "cell_type": "code",
   "execution_count": 8,
   "id": "d1dcd7d2-e314-4052-808a-b658836b5276",
   "metadata": {},
   "outputs": [
    {
     "name": "stdout",
     "output_type": "stream",
     "text": [
      "business_status\n",
      "formatted_address\n",
      "name\n",
      "opening_hours\n",
      "plus_code\n",
      "rating\n",
      "reviews\n",
      "types\n",
      "url\n",
      "user_ratings_total\n",
      "vicinity\n",
      "website\n"
     ]
    }
   ],
   "source": [
    "# We only want the result \n",
    "for res in fetch_result['result']:\n",
    "    print(res) # This are all the fields that we asked for (if such value exists)"
   ]
  },
  {
   "cell_type": "code",
   "execution_count": 9,
   "id": "dc6a46d3-f9dd-480d-bcb9-f73861205b0e",
   "metadata": {},
   "outputs": [
    {
     "name": "stdout",
     "output_type": "stream",
     "text": [
      "OPERATIONAL\n"
     ]
    }
   ],
   "source": [
    "# We can print them one by one like this\n",
    "print(fetch_result['result']['business_status'])"
   ]
  },
  {
   "cell_type": "markdown",
   "id": "d74b7c4a-db15-4e1c-9038-7dbc24e4e141",
   "metadata": {
    "tags": []
   },
   "source": [
    "# Format Values one by one"
   ]
  },
  {
   "cell_type": "markdown",
   "id": "8214c2b7-5558-485f-abf8-ef3a93cabfd5",
   "metadata": {},
   "source": [
    "## business_status"
   ]
  },
  {
   "cell_type": "code",
   "execution_count": 10,
   "id": "0f67981d-b7c0-46d4-9a62-925111cc08e4",
   "metadata": {},
   "outputs": [
    {
     "name": "stdout",
     "output_type": "stream",
     "text": [
      "OPERATIONAL\n"
     ]
    }
   ],
   "source": [
    "print(fetch_result['result']['business_status'])"
   ]
  },
  {
   "cell_type": "markdown",
   "id": "4df5e528-857f-488c-b25a-425b630fd9d6",
   "metadata": {},
   "source": [
    "## formatted_address"
   ]
  },
  {
   "cell_type": "code",
   "execution_count": 11,
   "id": "7b6aa54a-42b6-451e-baa3-3ab078ecab7f",
   "metadata": {},
   "outputs": [
    {
     "name": "stdout",
     "output_type": "stream",
     "text": [
      "Main St, Ballyknockan, Leighlinbridge, Co. Carlow, R93 E189, Ireland\n"
     ]
    }
   ],
   "source": [
    "print(fetch_result['result']['formatted_address'])"
   ]
  },
  {
   "cell_type": "markdown",
   "id": "5e8e8d55-d149-42bf-a344-428d8493a801",
   "metadata": {},
   "source": [
    "## name"
   ]
  },
  {
   "cell_type": "code",
   "execution_count": 12,
   "id": "a3832c3f-b0dc-49ff-b573-2a4a618e7b99",
   "metadata": {},
   "outputs": [
    {
     "name": "stdout",
     "output_type": "stream",
     "text": [
      "Lord Bagenal Inn\n"
     ]
    }
   ],
   "source": [
    "print(fetch_result['result']['name'])"
   ]
  },
  {
   "cell_type": "markdown",
   "id": "23df7dfe-278a-4718-8337-af9af189b4c4",
   "metadata": {},
   "source": [
    "## opening_hours"
   ]
  },
  {
   "cell_type": "code",
   "execution_count": 13,
   "id": "181153a9-8715-46d5-874c-03f1720656f5",
   "metadata": {},
   "outputs": [
    {
     "data": {
      "text/plain": [
       "{'open_now': True,\n",
       " 'periods': [{'open': {'day': 0, 'time': '0000'}}],\n",
       " 'weekday_text': ['Monday: Open 24 hours',\n",
       "  'Tuesday: Open 24 hours',\n",
       "  'Wednesday: Open 24 hours',\n",
       "  'Thursday: Open 24 hours',\n",
       "  'Friday: Open 24 hours',\n",
       "  'Saturday: Open 24 hours',\n",
       "  'Sunday: Open 24 hours']}"
      ]
     },
     "execution_count": 13,
     "metadata": {},
     "output_type": "execute_result"
    }
   ],
   "source": [
    "opening_hours = fetch_result['result']['opening_hours']\n",
    "opening_hours"
   ]
  },
  {
   "cell_type": "markdown",
   "id": "77addb7f-7f39-479d-ac7f-fdd9be802fb2",
   "metadata": {},
   "source": [
    "## plus_code"
   ]
  },
  {
   "cell_type": "code",
   "execution_count": 6,
   "id": "d17ae878-72e7-485f-bda5-13f9b0df8a12",
   "metadata": {},
   "outputs": [
    {
     "data": {
      "text/plain": [
       "{'compound_code': 'P2PF+H8 Leighlinbridge, County Carlow, Ireland',\n",
       " 'global_code': '9C4MP2PF+H8'}"
      ]
     },
     "execution_count": 6,
     "metadata": {},
     "output_type": "execute_result"
    }
   ],
   "source": [
    "plus_code = fetch_result['result']['plus_code']\n",
    "plus_code"
   ]
  },
  {
   "cell_type": "markdown",
   "id": "8e326fb4-0e75-4b03-af10-2fc2f36c92ba",
   "metadata": {},
   "source": [
    "## rating"
   ]
  },
  {
   "cell_type": "code",
   "execution_count": 7,
   "id": "6d1ca690-7d3b-4b72-964d-d883bdc8fac2",
   "metadata": {},
   "outputs": [
    {
     "data": {
      "text/plain": [
       "4.5"
      ]
     },
     "execution_count": 7,
     "metadata": {},
     "output_type": "execute_result"
    }
   ],
   "source": [
    "rating = fetch_result['result']['rating']\n",
    "rating"
   ]
  },
  {
   "cell_type": "markdown",
   "id": "96ba626a-7e62-47fc-9968-1628b1b4535f",
   "metadata": {},
   "source": [
    "## reviews"
   ]
  },
  {
   "cell_type": "code",
   "execution_count": 5,
   "id": "0ac73c8d-7cc4-4b67-bdc0-10331fdb0743",
   "metadata": {},
   "outputs": [
    {
     "data": {
      "text/plain": [
       "[{'author_name': 'moonshineminx1',\n",
       "  'author_url': 'https://www.google.com/maps/contrib/109720901335390464538/reviews',\n",
       "  'language': 'en',\n",
       "  'original_language': 'en',\n",
       "  'profile_photo_url': 'https://lh3.googleusercontent.com/a/AEdFTp5oc7z1RB5O_w8lAoxS5Mz-GS5VEoGYjVEamLJ_=s128-c0x00000000-cc-rp-mo',\n",
       "  'rating': 5,\n",
       "  'relative_time_description': '5 months ago',\n",
       "  'text': \"We had a first class meal - both took the battered hake. The fish was delicious, large portion, light batter, really enjoyed it. The surroundings are full of character, the meal arrived quickly and the staff were really helpful and attentive. We'll definately go back next time we're in the area.\",\n",
       "  'time': 1661808204,\n",
       "  'translated': False},\n",
       " {'author_name': 'Amy Brennan',\n",
       "  'author_url': 'https://www.google.com/maps/contrib/101208999719543819132/reviews',\n",
       "  'language': 'en',\n",
       "  'original_language': 'en',\n",
       "  'profile_photo_url': 'https://lh3.googleusercontent.com/a-/AD5-WCmzReTr_Os5HJFS7n0-StUwF46DFgdnGeLctHCdMA=s128-c0x00000000-cc-rp-mo',\n",
       "  'rating': 5,\n",
       "  'relative_time_description': '3 months ago',\n",
       "  'text': 'A world class hotel! Beautiful and classically decorated. Service was outstanding. Staff were\\nprofessional, attentive & kind; went above and beyond to cater to us. Food was delicious, bed super comfy and facilities brilliant. Will be back!',\n",
       "  'time': 1669029025,\n",
       "  'translated': False},\n",
       " {'author_name': 'Martin Kyle Jensen Kellerman',\n",
       "  'author_url': 'https://www.google.com/maps/contrib/100432243203795625555/reviews',\n",
       "  'language': 'en',\n",
       "  'original_language': 'en',\n",
       "  'profile_photo_url': 'https://lh3.googleusercontent.com/a-/AD5-WCmlPf6sZBGl8Zw9Da2GLvSUyfp-F4Ia7kaeW-toPw=s128-c0x00000000-cc-rp-mo',\n",
       "  'rating': 5,\n",
       "  'relative_time_description': '5 months ago',\n",
       "  'text': 'Always a pleasure to visit. The restaurant has amazing staff. Excellent choices on the menu with fresh produce. You can see a lot of love and attention that goes into their menus, taste and service',\n",
       "  'time': 1663083430,\n",
       "  'translated': False},\n",
       " {'author_name': 'Robert McGivern',\n",
       "  'author_url': 'https://www.google.com/maps/contrib/112588598986974491135/reviews',\n",
       "  'language': 'en',\n",
       "  'original_language': 'en',\n",
       "  'profile_photo_url': 'https://lh3.googleusercontent.com/a-/AD5-WCnNYBQYQ4ndnAup1wIb0sVNBxsEhUtzLu24BN77=s128-c0x00000000-cc-rp-mo-ba3',\n",
       "  'rating': 4,\n",
       "  'relative_time_description': '4 months ago',\n",
       "  'text': 'Spent a week long break in the area,\\nand were here three times for food.\\nSunday carvery is quite good, also evening menu, which we sampled twice.\\nStaff very nice and helpful.',\n",
       "  'time': 1664272635,\n",
       "  'translated': False},\n",
       " {'author_name': 'Eileen Carr',\n",
       "  'author_url': 'https://www.google.com/maps/contrib/115481605440957449984/reviews',\n",
       "  'language': 'en',\n",
       "  'original_language': 'en',\n",
       "  'profile_photo_url': 'https://lh3.googleusercontent.com/a/AEdFTp5j4rd1Tm8iSe8rqO366WXsCHbTlJrPiuCoJopy=s128-c0x00000000-cc-rp-mo',\n",
       "  'rating': 4,\n",
       "  'relative_time_description': '5 months ago',\n",
       "  'text': 'Great food & service. Pleasant staff. I had the Thai sea bass - really good -  would have loved a few stir fried veg with it but the fish was yummy.',\n",
       "  'time': 1663533414,\n",
       "  'translated': False}]"
      ]
     },
     "execution_count": 5,
     "metadata": {},
     "output_type": "execute_result"
    }
   ],
   "source": [
    "reviews = fetch_result['result']['reviews']\n",
    "reviews"
   ]
  },
  {
   "cell_type": "code",
   "execution_count": 5,
   "id": "a8fea61c-03f9-48c7-b2c6-f35e47327712",
   "metadata": {},
   "outputs": [
    {
     "data": {
      "text/plain": [
       "{'author_name': 'moonshineminx1',\n",
       " 'author_url': 'https://www.google.com/maps/contrib/109720901335390464538/reviews',\n",
       " 'language': 'en',\n",
       " 'original_language': 'en',\n",
       " 'profile_photo_url': 'https://lh3.googleusercontent.com/a/AEdFTp5oc7z1RB5O_w8lAoxS5Mz-GS5VEoGYjVEamLJ_=s128-c0x00000000-cc-rp-mo',\n",
       " 'rating': 5,\n",
       " 'relative_time_description': '5 months ago',\n",
       " 'text': \"We had a first class meal - both took the battered hake. The fish was delicious, large portion, light batter, really enjoyed it. The surroundings are full of character, the meal arrived quickly and the staff were really helpful and attentive. We'll definately go back next time we're in the area.\",\n",
       " 'time': 1661808204,\n",
       " 'translated': False}"
      ]
     },
     "execution_count": 5,
     "metadata": {},
     "output_type": "execute_result"
    }
   ],
   "source": [
    "# Work with one review\n",
    "reviews[0]"
   ]
  },
  {
   "cell_type": "code",
   "execution_count": 6,
   "id": "f89c1cc8-9fd1-41b0-a97d-4543f27727bd",
   "metadata": {},
   "outputs": [
    {
     "name": "stdout",
     "output_type": "stream",
     "text": [
      "author_name\n",
      "author_url\n",
      "language\n",
      "original_language\n",
      "profile_photo_url\n",
      "rating\n",
      "relative_time_description\n",
      "text\n",
      "time\n",
      "translated\n"
     ]
    }
   ],
   "source": [
    "# All fields from a single review\n",
    "for rev_field in reviews[0]:\n",
    "    print(rev_field)"
   ]
  },
  {
   "cell_type": "code",
   "execution_count": 3,
   "id": "1a8f01f1-3184-4c79-a817-46e424c24e06",
   "metadata": {},
   "outputs": [],
   "source": [
    "data_single_review = { 'author_name': 'moonshineminx1',\n",
    "                      'author_url': 'https://www.google.com/maps/contrib/109720901335390464538/reviews',\n",
    "                      'language': 'en'\n",
    "                     }"
   ]
  },
  {
   "cell_type": "code",
   "execution_count": 8,
   "id": "edf04281-ad49-4ab7-8aaf-e169ce88145a",
   "metadata": {},
   "outputs": [],
   "source": [
    "# Creating pandas dataframe\n",
    "reviews = fetch_result['result']['reviews']\n",
    "reviews_json = json.dumps(reviews) \n",
    "reviews_df = pd.read_json(reviews_json)"
   ]
  },
  {
   "cell_type": "code",
   "execution_count": 9,
   "id": "f2a1f4b0-9ec8-479c-be94-ab63fd2a10d5",
   "metadata": {},
   "outputs": [
    {
     "data": {
      "text/html": [
       "<div>\n",
       "<style scoped>\n",
       "    .dataframe tbody tr th:only-of-type {\n",
       "        vertical-align: middle;\n",
       "    }\n",
       "\n",
       "    .dataframe tbody tr th {\n",
       "        vertical-align: top;\n",
       "    }\n",
       "\n",
       "    .dataframe thead th {\n",
       "        text-align: right;\n",
       "    }\n",
       "</style>\n",
       "<table border=\"1\" class=\"dataframe\">\n",
       "  <thead>\n",
       "    <tr style=\"text-align: right;\">\n",
       "      <th></th>\n",
       "      <th>author_name</th>\n",
       "      <th>author_url</th>\n",
       "      <th>language</th>\n",
       "      <th>original_language</th>\n",
       "      <th>profile_photo_url</th>\n",
       "      <th>rating</th>\n",
       "      <th>relative_time_description</th>\n",
       "      <th>text</th>\n",
       "      <th>time</th>\n",
       "      <th>translated</th>\n",
       "    </tr>\n",
       "  </thead>\n",
       "  <tbody>\n",
       "    <tr>\n",
       "      <th>0</th>\n",
       "      <td>moonshineminx1</td>\n",
       "      <td>https://www.google.com/maps/contrib/1097209013...</td>\n",
       "      <td>en</td>\n",
       "      <td>en</td>\n",
       "      <td>https://lh3.googleusercontent.com/a/AEdFTp5oc7...</td>\n",
       "      <td>5</td>\n",
       "      <td>5 months ago</td>\n",
       "      <td>We had a first class meal - both took the batt...</td>\n",
       "      <td>1661808204</td>\n",
       "      <td>False</td>\n",
       "    </tr>\n",
       "    <tr>\n",
       "      <th>1</th>\n",
       "      <td>Amy Brennan</td>\n",
       "      <td>https://www.google.com/maps/contrib/1012089997...</td>\n",
       "      <td>en</td>\n",
       "      <td>en</td>\n",
       "      <td>https://lh3.googleusercontent.com/a-/AD5-WCmzR...</td>\n",
       "      <td>5</td>\n",
       "      <td>3 months ago</td>\n",
       "      <td>A world class hotel! Beautiful and classically...</td>\n",
       "      <td>1669029025</td>\n",
       "      <td>False</td>\n",
       "    </tr>\n",
       "    <tr>\n",
       "      <th>2</th>\n",
       "      <td>Martin Kyle Jensen Kellerman</td>\n",
       "      <td>https://www.google.com/maps/contrib/1004322432...</td>\n",
       "      <td>en</td>\n",
       "      <td>en</td>\n",
       "      <td>https://lh3.googleusercontent.com/a-/AD5-WCmlP...</td>\n",
       "      <td>5</td>\n",
       "      <td>5 months ago</td>\n",
       "      <td>Always a pleasure to visit. The restaurant has...</td>\n",
       "      <td>1663083430</td>\n",
       "      <td>False</td>\n",
       "    </tr>\n",
       "    <tr>\n",
       "      <th>3</th>\n",
       "      <td>Robert McGivern</td>\n",
       "      <td>https://www.google.com/maps/contrib/1125885989...</td>\n",
       "      <td>en</td>\n",
       "      <td>en</td>\n",
       "      <td>https://lh3.googleusercontent.com/a-/AD5-WCnNY...</td>\n",
       "      <td>4</td>\n",
       "      <td>4 months ago</td>\n",
       "      <td>Spent a week long break in the area,\\nand were...</td>\n",
       "      <td>1664272635</td>\n",
       "      <td>False</td>\n",
       "    </tr>\n",
       "    <tr>\n",
       "      <th>4</th>\n",
       "      <td>Eileen Carr</td>\n",
       "      <td>https://www.google.com/maps/contrib/1154816054...</td>\n",
       "      <td>en</td>\n",
       "      <td>en</td>\n",
       "      <td>https://lh3.googleusercontent.com/a/AEdFTp5j4r...</td>\n",
       "      <td>4</td>\n",
       "      <td>5 months ago</td>\n",
       "      <td>Great food &amp; service. Pleasant staff. I had th...</td>\n",
       "      <td>1663533414</td>\n",
       "      <td>False</td>\n",
       "    </tr>\n",
       "  </tbody>\n",
       "</table>\n",
       "</div>"
      ],
      "text/plain": [
       "                    author_name  \\\n",
       "0                moonshineminx1   \n",
       "1                   Amy Brennan   \n",
       "2  Martin Kyle Jensen Kellerman   \n",
       "3               Robert McGivern   \n",
       "4                   Eileen Carr   \n",
       "\n",
       "                                          author_url language  \\\n",
       "0  https://www.google.com/maps/contrib/1097209013...       en   \n",
       "1  https://www.google.com/maps/contrib/1012089997...       en   \n",
       "2  https://www.google.com/maps/contrib/1004322432...       en   \n",
       "3  https://www.google.com/maps/contrib/1125885989...       en   \n",
       "4  https://www.google.com/maps/contrib/1154816054...       en   \n",
       "\n",
       "  original_language                                  profile_photo_url  \\\n",
       "0                en  https://lh3.googleusercontent.com/a/AEdFTp5oc7...   \n",
       "1                en  https://lh3.googleusercontent.com/a-/AD5-WCmzR...   \n",
       "2                en  https://lh3.googleusercontent.com/a-/AD5-WCmlP...   \n",
       "3                en  https://lh3.googleusercontent.com/a-/AD5-WCnNY...   \n",
       "4                en  https://lh3.googleusercontent.com/a/AEdFTp5j4r...   \n",
       "\n",
       "   rating relative_time_description  \\\n",
       "0       5              5 months ago   \n",
       "1       5              3 months ago   \n",
       "2       5              5 months ago   \n",
       "3       4              4 months ago   \n",
       "4       4              5 months ago   \n",
       "\n",
       "                                                text        time  translated  \n",
       "0  We had a first class meal - both took the batt...  1661808204       False  \n",
       "1  A world class hotel! Beautiful and classically...  1669029025       False  \n",
       "2  Always a pleasure to visit. The restaurant has...  1663083430       False  \n",
       "3  Spent a week long break in the area,\\nand were...  1664272635       False  \n",
       "4  Great food & service. Pleasant staff. I had th...  1663533414       False  "
      ]
     },
     "execution_count": 9,
     "metadata": {},
     "output_type": "execute_result"
    }
   ],
   "source": [
    "reviews_df"
   ]
  },
  {
   "cell_type": "code",
   "execution_count": 10,
   "id": "bea3203c-5d31-4037-be91-2c2a1e353443",
   "metadata": {},
   "outputs": [
    {
     "data": {
      "text/html": [
       "<div>\n",
       "<style scoped>\n",
       "    .dataframe tbody tr th:only-of-type {\n",
       "        vertical-align: middle;\n",
       "    }\n",
       "\n",
       "    .dataframe tbody tr th {\n",
       "        vertical-align: top;\n",
       "    }\n",
       "\n",
       "    .dataframe thead th {\n",
       "        text-align: right;\n",
       "    }\n",
       "</style>\n",
       "<table border=\"1\" class=\"dataframe\">\n",
       "  <thead>\n",
       "    <tr style=\"text-align: right;\">\n",
       "      <th></th>\n",
       "      <th>author_name</th>\n",
       "      <th>original_language</th>\n",
       "      <th>rating</th>\n",
       "      <th>relative_time_description</th>\n",
       "      <th>text</th>\n",
       "      <th>translated</th>\n",
       "    </tr>\n",
       "  </thead>\n",
       "  <tbody>\n",
       "    <tr>\n",
       "      <th>0</th>\n",
       "      <td>moonshineminx1</td>\n",
       "      <td>en</td>\n",
       "      <td>5</td>\n",
       "      <td>5 months ago</td>\n",
       "      <td>We had a first class meal - both took the batt...</td>\n",
       "      <td>False</td>\n",
       "    </tr>\n",
       "    <tr>\n",
       "      <th>1</th>\n",
       "      <td>Amy Brennan</td>\n",
       "      <td>en</td>\n",
       "      <td>5</td>\n",
       "      <td>3 months ago</td>\n",
       "      <td>A world class hotel! Beautiful and classically...</td>\n",
       "      <td>False</td>\n",
       "    </tr>\n",
       "    <tr>\n",
       "      <th>2</th>\n",
       "      <td>Martin Kyle Jensen Kellerman</td>\n",
       "      <td>en</td>\n",
       "      <td>5</td>\n",
       "      <td>5 months ago</td>\n",
       "      <td>Always a pleasure to visit. The restaurant has...</td>\n",
       "      <td>False</td>\n",
       "    </tr>\n",
       "    <tr>\n",
       "      <th>3</th>\n",
       "      <td>Robert McGivern</td>\n",
       "      <td>en</td>\n",
       "      <td>4</td>\n",
       "      <td>4 months ago</td>\n",
       "      <td>Spent a week long break in the area,\\nand were...</td>\n",
       "      <td>False</td>\n",
       "    </tr>\n",
       "    <tr>\n",
       "      <th>4</th>\n",
       "      <td>Eileen Carr</td>\n",
       "      <td>en</td>\n",
       "      <td>4</td>\n",
       "      <td>5 months ago</td>\n",
       "      <td>Great food &amp; service. Pleasant staff. I had th...</td>\n",
       "      <td>False</td>\n",
       "    </tr>\n",
       "  </tbody>\n",
       "</table>\n",
       "</div>"
      ],
      "text/plain": [
       "                    author_name original_language  rating  \\\n",
       "0                moonshineminx1                en       5   \n",
       "1                   Amy Brennan                en       5   \n",
       "2  Martin Kyle Jensen Kellerman                en       5   \n",
       "3               Robert McGivern                en       4   \n",
       "4                   Eileen Carr                en       4   \n",
       "\n",
       "  relative_time_description  \\\n",
       "0              5 months ago   \n",
       "1              3 months ago   \n",
       "2              5 months ago   \n",
       "3              4 months ago   \n",
       "4              5 months ago   \n",
       "\n",
       "                                                text  translated  \n",
       "0  We had a first class meal - both took the batt...       False  \n",
       "1  A world class hotel! Beautiful and classically...       False  \n",
       "2  Always a pleasure to visit. The restaurant has...       False  \n",
       "3  Spent a week long break in the area,\\nand were...       False  \n",
       "4  Great food & service. Pleasant staff. I had th...       False  "
      ]
     },
     "execution_count": 10,
     "metadata": {},
     "output_type": "execute_result"
    }
   ],
   "source": [
    "reviews_df_clean = reviews_df.drop(['author_url', 'language', 'time', 'profile_photo_url'], axis=1)\n",
    "reviews_df_clean"
   ]
  },
  {
   "cell_type": "code",
   "execution_count": 11,
   "id": "1cfb109c-a1f4-4eec-8c97-d444255e98c9",
   "metadata": {},
   "outputs": [
    {
     "data": {
      "image/png": "[encoded data removed]",
      "text/plain": [
       "<Figure size 640x480 with 1 Axes>"
      ]
     },
     "metadata": {},
     "output_type": "display_data"
    }
   ],
   "source": [
    "import matplotlib.pyplot as plt\n",
    "\n",
    "# Create a list of unique author names\n",
    "author_names = list(reviews_df_clean['author_name'].unique())\n",
    "\n",
    "# Create an empty dictionary to store average ratings for each author\n",
    "author_ratings = {}\n",
    "\n",
    "# Loop through each author name in the list\n",
    "for author in author_names:\n",
    "  # Filter the dataset by the author name\n",
    "  author_reviews = reviews_df_clean[reviews_df_clean['author_name'] == author]\n",
    "  # Calculate the average rating for the author\n",
    "  average_rating = author_reviews['rating'].mean()\n",
    "  # Store the average rating in the dictionary\n",
    "  author_ratings[author] = average_rating\n",
    "\n",
    "# Create a figure and an axis object\n",
    "fig, ax = plt.subplots()\n",
    "\n",
    "# Create a bar chart with author names on the x-axis and average ratings on the y-axis\n",
    "ax.bar(author_ratings.keys(), author_ratings.values(), color='darkblue', width=0.5, edgecolor='black')\n",
    "# Add labels and title to the chart\n",
    "ax.set_xlabel('Author Name')\n",
    "ax.set_ylabel('Average Rating')\n",
    "ax.set_title('Ratings for Each Person')\n",
    "# Remove grid lines from the chart\n",
    "ax.grid(False)\n",
    "# Add a legend to the chart\n",
    "ax.legend(['Average Rating'])\n",
    "# Adjust the size and rotation of the x-axis labels\n",
    "plt.xticks(rotation=45, fontsize=10)\n",
    "# Show the chart\n",
    "plt.show()"
   ]
  },
  {
   "cell_type": "code",
   "execution_count": 12,
   "id": "47eac5fa-09df-4acc-a4f7-e2bde4913ba0",
   "metadata": {},
   "outputs": [
    {
     "ename": "ModuleNotFoundError",
     "evalue": "No module named 'plotly'",
     "output_type": "error",
     "traceback": [
      "\u001b[0;31m---------------------------------------------------------------------------\u001b[0m",
      "\u001b[0;31mModuleNotFoundError\u001b[0m                       Traceback (most recent call last)",
      "Cell \u001b[0;32mIn[12], line 1\u001b[0m\n\u001b[0;32m----> 1\u001b[0m \u001b[38;5;28;01mimport\u001b[39;00m \u001b[38;5;21;01mplotly\u001b[39;00m\u001b[38;5;21;01m.\u001b[39;00m\u001b[38;5;21;01mexpress\u001b[39;00m \u001b[38;5;28;01mas\u001b[39;00m \u001b[38;5;21;01mpx\u001b[39;00m\n\u001b[1;32m      3\u001b[0m author_names \u001b[38;5;241m=\u001b[39m \u001b[38;5;28mlist\u001b[39m(reviews_df_clean[\u001b[38;5;124m'\u001b[39m\u001b[38;5;124mauthor_name\u001b[39m\u001b[38;5;124m'\u001b[39m]\u001b[38;5;241m.\u001b[39munique())\n\u001b[1;32m      5\u001b[0m author_ratings \u001b[38;5;241m=\u001b[39m {}\n",
      "\u001b[0;31mModuleNotFoundError\u001b[0m: No module named 'plotly'"
     ]
    }
   ],
   "source": [
    "import plotly.express as px\n",
    "\n",
    "author_names = list(reviews_df_clean['author_name'].unique())\n",
    "\n",
    "author_ratings = {}\n",
    "\n",
    "for author in author_names:\n",
    "    author_reviews = reviews_df_clean[reviews_df_clean['author_name'] == author]\n",
    "    average_rating = author_reviews['rating'].mean()\n",
    "    author_ratings[author] = average_rating\n",
    "    ratings_df = pd.DataFrame.from_dict(author_ratings, orient='index', columns=['Average Rating'])\n",
    "\n",
    "fig = px.bar(ratings_df, x=ratings_df.index, y='Average Rating', color='Average Rating', title='Ratings for Each Person')\n",
    "\n",
    "fig.show()"
   ]
  },
  {
   "cell_type": "markdown",
   "id": "c8895758-1297-4554-a21c-735fea8fc8b7",
   "metadata": {},
   "source": [
    "## types"
   ]
  },
  {
   "cell_type": "code",
   "execution_count": 8,
   "id": "5a267faf-4012-45c3-8d74-5cb02a9a56e7",
   "metadata": {},
   "outputs": [
    {
     "data": {
      "text/plain": [
       "['cafe',\n",
       " 'bar',\n",
       " 'lodging',\n",
       " 'restaurant',\n",
       " 'point_of_interest',\n",
       " 'food',\n",
       " 'establishment']"
      ]
     },
     "execution_count": 8,
     "metadata": {},
     "output_type": "execute_result"
    }
   ],
   "source": [
    "types = fetch_result['result']['types']\n",
    "types"
   ]
  },
  {
   "cell_type": "markdown",
   "id": "93f035b5-dd13-4777-8b23-c75c6b0b7efb",
   "metadata": {},
   "source": [
    "## url"
   ]
  },
  {
   "cell_type": "code",
   "execution_count": 28,
   "id": "13b9ea48-8c8d-4d6a-b3f1-02dc8c7d3e26",
   "metadata": {},
   "outputs": [
    {
     "name": "stdout",
     "output_type": "stream",
     "text": [
      "https://maps.google.com/?cid=2853382309083390608\n"
     ]
    }
   ],
   "source": [
    "print(fetch_result['result']['url'])"
   ]
  },
  {
   "cell_type": "markdown",
   "id": "5103531f-da82-423a-b681-95e2f9339b0d",
   "metadata": {},
   "source": [
    "## user_ratings_total"
   ]
  },
  {
   "cell_type": "code",
   "execution_count": 29,
   "id": "aaf10e97-0d62-4717-bfeb-877a969a16d7",
   "metadata": {},
   "outputs": [
    {
     "name": "stdout",
     "output_type": "stream",
     "text": [
      "1418\n"
     ]
    }
   ],
   "source": [
    "print(fetch_result['result']['user_ratings_total'])"
   ]
  },
  {
   "cell_type": "markdown",
   "id": "dbfd31ff-508b-4861-9f96-3bd38b0c3633",
   "metadata": {},
   "source": [
    "## vicinity"
   ]
  },
  {
   "cell_type": "code",
   "execution_count": 30,
   "id": "c8e2ef9c-9110-4a45-8e51-8beadb9facd6",
   "metadata": {},
   "outputs": [
    {
     "name": "stdout",
     "output_type": "stream",
     "text": [
      "Main Street, Leighlinbridge\n"
     ]
    }
   ],
   "source": [
    "print(fetch_result['result']['vicinity'])"
   ]
  },
  {
   "cell_type": "markdown",
   "id": "0d992044-016e-4b99-8909-cfc39bdef300",
   "metadata": {},
   "source": [
    "## website"
   ]
  },
  {
   "cell_type": "code",
   "execution_count": 31,
   "id": "f3c98968-1c42-4e3b-a9d7-6cbd97a47a73",
   "metadata": {},
   "outputs": [
    {
     "name": "stdout",
     "output_type": "stream",
     "text": [
      "http://www.lordbagenal.com/\n"
     ]
    }
   ],
   "source": [
    "print(fetch_result['result']['website'])"
   ]
  },
  {
   "cell_type": "markdown",
   "id": "3e666e86-dfb1-4769-b7aa-2e279f7008b9",
   "metadata": {},
   "source": [
    "## Felix"
   ]
  },
  {
   "cell_type": "code",
   "execution_count": 5,
   "id": "ffbf75d9-426a-463a-aa47-13e4261c212c",
   "metadata": {},
   "outputs": [
    {
     "ename": "NameError",
     "evalue": "name 'df' is not defined",
     "output_type": "error",
     "traceback": [
      "\u001b[0;31m---------------------------------------------------------------------------\u001b[0m",
      "\u001b[0;31mNameError\u001b[0m                                 Traceback (most recent call last)",
      "Cell \u001b[0;32mIn[5], line 1\u001b[0m\n\u001b[0;32m----> 1\u001b[0m fetch_result \u001b[38;5;241m==\u001b[39m \u001b[43mdf\u001b[49m\n",
      "\u001b[0;31mNameError\u001b[0m: name 'df' is not defined"
     ]
    }
   ],
   "source": []
  },
  {
   "cell_type": "code",
   "execution_count": null,
   "id": "ec71ccf6-8847-445b-b406-5197ca93d2c4",
   "metadata": {},
   "outputs": [],
   "source": [
    "# Parse response text as json object\n",
    "fetch_result_2 = response.json()\n",
    "\n",
    "# Flatten json object into dataframe\n",
    "fetch_result = pd.json_normalize(data[\"result\"])\n",
    "\n",
    "# Select columns you want (optional)\n",
    "fetch_result = fetch_result[[\"author_name\", \"author_url\", \"language\", \"types\"]]"
   ]
  }
 ],
 "metadata": {
  "kernelspec": {
   "display_name": "IEML",
   "language": "python",
   "name": "ieml"
  },
  "language_info": {
   "codemirror_mode": {
    "name": "ipython",
    "version": 3
   },
   "file_extension": ".py",
   "mimetype": "text/x-python",
   "name": "python",
   "nbconvert_exporter": "python",
   "pygments_lexer": "ipython3",
   "version": "3.8.16"
  },
  "vscode": {
   "interpreter": {
    "hash": "8e0e5045c3e4422ac09f66df856167f9e1940742f51ae99e001e02eec961a839"
   }
  }
 },
 "nbformat": 4,
 "nbformat_minor": 5
}
