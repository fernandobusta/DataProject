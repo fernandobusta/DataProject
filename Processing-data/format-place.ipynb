{
 "cells": [
  {
   "cell_type": "code",
   "execution_count": 3,
   "id": "c801c366-d36d-48aa-a3d4-ba61eaeed92b",
   "metadata": {},
   "outputs": [],
   "source": [
    "import googlemaps\n",
    "import pprint\n",
    "import time\n",
    "import sys\n"
   ]
  },
  {
   "cell_type": "code",
   "execution_count": 4,
   "id": "60c1a757-157b-49ad-aa60-da4d0fc1ae7d",
   "metadata": {},
   "outputs": [],
   "source": [
    "from apiK import *"
   ]
  },
  {
   "cell_type": "code",
   "execution_count": 5,
   "id": "a0400700-e49b-4333-af83-a378859a59a0",
   "metadata": {},
   "outputs": [],
   "source": [
    "# This is the unique id of a place in Google maps\n",
    "place_id = 'ChIJrVO2iWhEXUgRkKJMnRdAmSc'"
   ]
  },
  {
   "cell_type": "code",
   "execution_count": 6,
   "id": "4a3e2a7f-6c6a-40ff-a3ad-cd81b1752089",
   "metadata": {},
   "outputs": [],
   "source": [
    "# Define our API key\n",
    "API_KEY = api_key()"
   ]
  },
  {
   "cell_type": "code",
   "execution_count": 7,
   "id": "b14b388d-5d93-4904-9e13-df6215e705e1",
   "metadata": {},
   "outputs": [],
   "source": [
    "# Define our clients\n",
    "gmaps = googlemaps.Client(key = API_KEY) # authenticate to make a request"
   ]
  },
  {
   "cell_type": "code",
   "execution_count": 10,
   "id": "fcbde9e4-1991-4121-a873-056183f46831",
   "metadata": {},
   "outputs": [],
   "source": [
    "# Define the fields we want sent back to us\n",
    "# page to see fields: https://developers.google.com/maps/documentation/places/web-service/details\n",
    "my_fields = ['business_status', 'formatted_address', 'name', 'opening_hours', 'plus_code', 'price_level', 'rating','review', 'type', 'url', 'user_ratings_total', 'vicinity', 'website']"
   ]
  },
  {
   "cell_type": "code",
   "execution_count": 11,
   "id": "7aad5aa4-8968-4487-8d3e-6cb7dfd8d70e",
   "metadata": {},
   "outputs": [],
   "source": [
    "# make a request for the details\n",
    "place_details = gmaps.place(place_id = place_id, fields = my_fields)"
   ]
  },
  {
   "cell_type": "code",
   "execution_count": 12,
   "id": "317afb14-1bf7-4593-aa6e-40b1ecaaf65f",
   "metadata": {},
   "outputs": [
    {
     "data": {
      "text/plain": [
       "{'html_attributions': [],\n",
       " 'result': {'business_status': 'OPERATIONAL',\n",
       "  'formatted_address': 'Main St, Ballyknockan, Leighlinbridge, Co. Carlow, R93 E189, Ireland',\n",
       "  'name': 'Lord Bagenal Inn',\n",
       "  'opening_hours': {'open_now': True,\n",
       "   'periods': [{'open': {'day': 0, 'time': '0000'}}],\n",
       "   'weekday_text': ['Monday: Open 24 hours',\n",
       "    'Tuesday: Open 24 hours',\n",
       "    'Wednesday: Open 24 hours',\n",
       "    'Thursday: Open 24 hours',\n",
       "    'Friday: Open 24 hours',\n",
       "    'Saturday: Open 24 hours',\n",
       "    'Sunday: Open 24 hours']},\n",
       "  'plus_code': {'compound_code': 'P2PF+H8 Leighlinbridge, County Carlow, Ireland',\n",
       "   'global_code': '9C4MP2PF+H8'},\n",
       "  'rating': 4.5,\n",
       "  'reviews': [{'author_name': 'moonshineminx1',\n",
       "    'author_url': 'https://www.google.com/maps/contrib/109720901335390464538/reviews',\n",
       "    'language': 'en',\n",
       "    'original_language': 'en',\n",
       "    'profile_photo_url': 'https://lh3.googleusercontent.com/a/AEdFTp5oc7z1RB5O_w8lAoxS5Mz-GS5VEoGYjVEamLJ_=s128-c0x00000000-cc-rp-mo',\n",
       "    'rating': 5,\n",
       "    'relative_time_description': '5 months ago',\n",
       "    'text': \"We had a first class meal - both took the battered hake. The fish was delicious, large portion, light batter, really enjoyed it. The surroundings are full of character, the meal arrived quickly and the staff were really helpful and attentive. We'll definately go back next time we're in the area.\",\n",
       "    'time': 1661808204,\n",
       "    'translated': False},\n",
       "   {'author_name': 'Amy Brennan',\n",
       "    'author_url': 'https://www.google.com/maps/contrib/101208999719543819132/reviews',\n",
       "    'language': 'en',\n",
       "    'original_language': 'en',\n",
       "    'profile_photo_url': 'https://lh3.googleusercontent.com/a-/AD5-WCmzReTr_Os5HJFS7n0-StUwF46DFgdnGeLctHCdMA=s128-c0x00000000-cc-rp-mo',\n",
       "    'rating': 5,\n",
       "    'relative_time_description': '3 months ago',\n",
       "    'text': 'A world class hotel! Beautiful and classically decorated. Service was outstanding. Staff were\\nprofessional, attentive & kind; went above and beyond to cater to us. Food was delicious, bed super comfy and facilities brilliant. Will be back!',\n",
       "    'time': 1669029025,\n",
       "    'translated': False},\n",
       "   {'author_name': 'Martin Kyle Jensen Kellerman',\n",
       "    'author_url': 'https://www.google.com/maps/contrib/100432243203795625555/reviews',\n",
       "    'language': 'en',\n",
       "    'original_language': 'en',\n",
       "    'profile_photo_url': 'https://lh3.googleusercontent.com/a-/AD5-WCmlPf6sZBGl8Zw9Da2GLvSUyfp-F4Ia7kaeW-toPw=s128-c0x00000000-cc-rp-mo',\n",
       "    'rating': 5,\n",
       "    'relative_time_description': '5 months ago',\n",
       "    'text': 'Always a pleasure to visit. The restaurant has amazing staff. Excellent choices on the menu with fresh produce. You can see a lot of love and attention that goes into their menus, taste and service',\n",
       "    'time': 1663083430,\n",
       "    'translated': False},\n",
       "   {'author_name': 'Robert McGivern',\n",
       "    'author_url': 'https://www.google.com/maps/contrib/112588598986974491135/reviews',\n",
       "    'language': 'en',\n",
       "    'original_language': 'en',\n",
       "    'profile_photo_url': 'https://lh3.googleusercontent.com/a-/AD5-WCnNYBQYQ4ndnAup1wIb0sVNBxsEhUtzLu24BN77=s128-c0x00000000-cc-rp-mo-ba3',\n",
       "    'rating': 4,\n",
       "    'relative_time_description': '4 months ago',\n",
       "    'text': 'Spent a week long break in the area,\\nand were here three times for food.\\nSunday carvery is quite good, also evening menu, which we sampled twice.\\nStaff very nice and helpful.',\n",
       "    'time': 1664272635,\n",
       "    'translated': False},\n",
       "   {'author_name': 'Eileen Carr',\n",
       "    'author_url': 'https://www.google.com/maps/contrib/115481605440957449984/reviews',\n",
       "    'language': 'en',\n",
       "    'original_language': 'en',\n",
       "    'profile_photo_url': 'https://lh3.googleusercontent.com/a/AEdFTp5j4rd1Tm8iSe8rqO366WXsCHbTlJrPiuCoJopy=s128-c0x00000000-cc-rp-mo',\n",
       "    'rating': 4,\n",
       "    'relative_time_description': '5 months ago',\n",
       "    'text': 'Great food & service. Pleasant staff. I had the Thai sea bass - really good -  would have loved a few stir fried veg with it but the fish was yummy.',\n",
       "    'time': 1663533414,\n",
       "    'translated': False}],\n",
       "  'types': ['cafe',\n",
       "   'bar',\n",
       "   'lodging',\n",
       "   'restaurant',\n",
       "   'point_of_interest',\n",
       "   'food',\n",
       "   'establishment'],\n",
       "  'url': 'https://maps.google.com/?cid=2853382309083390608',\n",
       "  'user_ratings_total': 1418,\n",
       "  'vicinity': 'Main Street, Leighlinbridge',\n",
       "  'website': 'http://www.lordbagenal.com/'},\n",
       " 'status': 'OK'}"
      ]
     },
     "execution_count": 12,
     "metadata": {},
     "output_type": "execute_result"
    }
   ],
   "source": [
    "# This is what the call gives back to us\n",
    "place_details"
   ]
  },
  {
   "cell_type": "code",
   "execution_count": 5,
   "id": "de31d54a-105b-4498-a72a-5727556d1219",
   "metadata": {},
   "outputs": [],
   "source": [
    "# Saving everything in results, to not run the call again\n",
    "fetch_result = {'html_attributions': [],\n",
    " 'result': {'business_status': 'OPERATIONAL',\n",
    "  'formatted_address': 'Main St, Ballyknockan, Leighlinbridge, Co. Carlow, R93 E189, Ireland',\n",
    "  'name': 'Lord Bagenal Inn',\n",
    "  'opening_hours': {'open_now': True,\n",
    "   'periods': [{'open': {'day': 0, 'time': '0000'}}],\n",
    "   'weekday_text': ['Monday: Open 24 hours',\n",
    "    'Tuesday: Open 24 hours',\n",
    "    'Wednesday: Open 24 hours',\n",
    "    'Thursday: Open 24 hours',\n",
    "    'Friday: Open 24 hours',\n",
    "    'Saturday: Open 24 hours',\n",
    "    'Sunday: Open 24 hours']},\n",
    "  'plus_code': {'compound_code': 'P2PF+H8 Leighlinbridge, County Carlow, Ireland',\n",
    "   'global_code': '9C4MP2PF+H8'},\n",
    "  'rating': 4.5,\n",
    "  'reviews': [{'author_name': 'moonshineminx1',\n",
    "    'author_url': 'https://www.google.com/maps/contrib/109720901335390464538/reviews',\n",
    "    'language': 'en',\n",
    "    'original_language': 'en',\n",
    "    'profile_photo_url': 'https://lh3.googleusercontent.com/a/AEdFTp5oc7z1RB5O_w8lAoxS5Mz-GS5VEoGYjVEamLJ_=s128-c0x00000000-cc-rp-mo',\n",
    "    'rating': 5,\n",
    "    'relative_time_description': '5 months ago',\n",
    "    'text': \"We had a first class meal - both took the battered hake. The fish was delicious, large portion, light batter, really enjoyed it. The surroundings are full of character, the meal arrived quickly and the staff were really helpful and attentive. We'll definately go back next time we're in the area.\",\n",
    "    'time': 1661808204,\n",
    "    'translated': False},\n",
    "   {'author_name': 'Amy Brennan',\n",
    "    'author_url': 'https://www.google.com/maps/contrib/101208999719543819132/reviews',\n",
    "    'language': 'en',\n",
    "    'original_language': 'en',\n",
    "    'profile_photo_url': 'https://lh3.googleusercontent.com/a-/AD5-WCmzReTr_Os5HJFS7n0-StUwF46DFgdnGeLctHCdMA=s128-c0x00000000-cc-rp-mo',\n",
    "    'rating': 5,\n",
    "    'relative_time_description': '3 months ago',\n",
    "    'text': 'A world class hotel! Beautiful and classically decorated. Service was outstanding. Staff were\\nprofessional, attentive & kind; went above and beyond to cater to us. Food was delicious, bed super comfy and facilities brilliant. Will be back!',\n",
    "    'time': 1669029025,\n",
    "    'translated': False},\n",
    "   {'author_name': 'Martin Kyle Jensen Kellerman',\n",
    "    'author_url': 'https://www.google.com/maps/contrib/100432243203795625555/reviews',\n",
    "    'language': 'en',\n",
    "    'original_language': 'en',\n",
    "    'profile_photo_url': 'https://lh3.googleusercontent.com/a-/AD5-WCmlPf6sZBGl8Zw9Da2GLvSUyfp-F4Ia7kaeW-toPw=s128-c0x00000000-cc-rp-mo',\n",
    "    'rating': 5,\n",
    "    'relative_time_description': '5 months ago',\n",
    "    'text': 'Always a pleasure to visit. The restaurant has amazing staff. Excellent choices on the menu with fresh produce. You can see a lot of love and attention that goes into their menus, taste and service',\n",
    "    'time': 1663083430,\n",
    "    'translated': False},\n",
    "   {'author_name': 'Robert McGivern',\n",
    "    'author_url': 'https://www.google.com/maps/contrib/112588598986974491135/reviews',\n",
    "    'language': 'en',\n",
    "    'original_language': 'en',\n",
    "    'profile_photo_url': 'https://lh3.googleusercontent.com/a-/AD5-WCnNYBQYQ4ndnAup1wIb0sVNBxsEhUtzLu24BN77=s128-c0x00000000-cc-rp-mo-ba3',\n",
    "    'rating': 4,\n",
    "    'relative_time_description': '4 months ago',\n",
    "    'text': 'Spent a week long break in the area,\\nand were here three times for food.\\nSunday carvery is quite good, also evening menu, which we sampled twice.\\nStaff very nice and helpful.',\n",
    "    'time': 1664272635,\n",
    "    'translated': False},\n",
    "   {'author_name': 'Eileen Carr',\n",
    "    'author_url': 'https://www.google.com/maps/contrib/115481605440957449984/reviews',\n",
    "    'language': 'en',\n",
    "    'original_language': 'en',\n",
    "    'profile_photo_url': 'https://lh3.googleusercontent.com/a/AEdFTp5j4rd1Tm8iSe8rqO366WXsCHbTlJrPiuCoJopy=s128-c0x00000000-cc-rp-mo',\n",
    "    'rating': 4,\n",
    "    'relative_time_description': '5 months ago',\n",
    "    'text': 'Great food & service. Pleasant staff. I had the Thai sea bass - really good -  would have loved a few stir fried veg with it but the fish was yummy.',\n",
    "    'time': 1663533414,\n",
    "    'translated': False}],\n",
    "  'types': ['cafe',\n",
    "   'bar',\n",
    "   'lodging',\n",
    "   'restaurant',\n",
    "   'point_of_interest',\n",
    "   'food',\n",
    "   'establishment'],\n",
    "  'url': 'https://maps.google.com/?cid=2853382309083390608',\n",
    "  'user_ratings_total': 1418,\n",
    "  'vicinity': 'Main Street, Leighlinbridge',\n",
    "  'website': 'http://www.lordbagenal.com/'},\n",
    " 'status': 'OK'}"
   ]
  },
  {
   "cell_type": "code",
   "execution_count": 6,
   "id": "896c57ef-318d-458b-9024-606cd3e02834",
   "metadata": {},
   "outputs": [
    {
     "data": {
      "text/plain": [
       "{'html_attributions': [],\n",
       " 'result': {'business_status': 'OPERATIONAL',\n",
       "  'formatted_address': 'Main St, Ballyknockan, Leighlinbridge, Co. Carlow, R93 E189, Ireland',\n",
       "  'name': 'Lord Bagenal Inn',\n",
       "  'opening_hours': {'open_now': True,\n",
       "   'periods': [{'open': {'day': 0, 'time': '0000'}}],\n",
       "   'weekday_text': ['Monday: Open 24 hours',\n",
       "    'Tuesday: Open 24 hours',\n",
       "    'Wednesday: Open 24 hours',\n",
       "    'Thursday: Open 24 hours',\n",
       "    'Friday: Open 24 hours',\n",
       "    'Saturday: Open 24 hours',\n",
       "    'Sunday: Open 24 hours']},\n",
       "  'plus_code': {'compound_code': 'P2PF+H8 Leighlinbridge, County Carlow, Ireland',\n",
       "   'global_code': '9C4MP2PF+H8'},\n",
       "  'rating': 4.5,\n",
       "  'reviews': [{'author_name': 'moonshineminx1',\n",
       "    'author_url': 'https://www.google.com/maps/contrib/109720901335390464538/reviews',\n",
       "    'language': 'en',\n",
       "    'original_language': 'en',\n",
       "    'profile_photo_url': 'https://lh3.googleusercontent.com/a/AEdFTp5oc7z1RB5O_w8lAoxS5Mz-GS5VEoGYjVEamLJ_=s128-c0x00000000-cc-rp-mo',\n",
       "    'rating': 5,\n",
       "    'relative_time_description': '5 months ago',\n",
       "    'text': \"We had a first class meal - both took the battered hake. The fish was delicious, large portion, light batter, really enjoyed it. The surroundings are full of character, the meal arrived quickly and the staff were really helpful and attentive. We'll definately go back next time we're in the area.\",\n",
       "    'time': 1661808204,\n",
       "    'translated': False},\n",
       "   {'author_name': 'Amy Brennan',\n",
       "    'author_url': 'https://www.google.com/maps/contrib/101208999719543819132/reviews',\n",
       "    'language': 'en',\n",
       "    'original_language': 'en',\n",
       "    'profile_photo_url': 'https://lh3.googleusercontent.com/a-/AD5-WCmzReTr_Os5HJFS7n0-StUwF46DFgdnGeLctHCdMA=s128-c0x00000000-cc-rp-mo',\n",
       "    'rating': 5,\n",
       "    'relative_time_description': '3 months ago',\n",
       "    'text': 'A world class hotel! Beautiful and classically decorated. Service was outstanding. Staff were\\nprofessional, attentive & kind; went above and beyond to cater to us. Food was delicious, bed super comfy and facilities brilliant. Will be back!',\n",
       "    'time': 1669029025,\n",
       "    'translated': False},\n",
       "   {'author_name': 'Martin Kyle Jensen Kellerman',\n",
       "    'author_url': 'https://www.google.com/maps/contrib/100432243203795625555/reviews',\n",
       "    'language': 'en',\n",
       "    'original_language': 'en',\n",
       "    'profile_photo_url': 'https://lh3.googleusercontent.com/a-/AD5-WCmlPf6sZBGl8Zw9Da2GLvSUyfp-F4Ia7kaeW-toPw=s128-c0x00000000-cc-rp-mo',\n",
       "    'rating': 5,\n",
       "    'relative_time_description': '5 months ago',\n",
       "    'text': 'Always a pleasure to visit. The restaurant has amazing staff. Excellent choices on the menu with fresh produce. You can see a lot of love and attention that goes into their menus, taste and service',\n",
       "    'time': 1663083430,\n",
       "    'translated': False},\n",
       "   {'author_name': 'Robert McGivern',\n",
       "    'author_url': 'https://www.google.com/maps/contrib/112588598986974491135/reviews',\n",
       "    'language': 'en',\n",
       "    'original_language': 'en',\n",
       "    'profile_photo_url': 'https://lh3.googleusercontent.com/a-/AD5-WCnNYBQYQ4ndnAup1wIb0sVNBxsEhUtzLu24BN77=s128-c0x00000000-cc-rp-mo-ba3',\n",
       "    'rating': 4,\n",
       "    'relative_time_description': '4 months ago',\n",
       "    'text': 'Spent a week long break in the area,\\nand were here three times for food.\\nSunday carvery is quite good, also evening menu, which we sampled twice.\\nStaff very nice and helpful.',\n",
       "    'time': 1664272635,\n",
       "    'translated': False},\n",
       "   {'author_name': 'Eileen Carr',\n",
       "    'author_url': 'https://www.google.com/maps/contrib/115481605440957449984/reviews',\n",
       "    'language': 'en',\n",
       "    'original_language': 'en',\n",
       "    'profile_photo_url': 'https://lh3.googleusercontent.com/a/AEdFTp5j4rd1Tm8iSe8rqO366WXsCHbTlJrPiuCoJopy=s128-c0x00000000-cc-rp-mo',\n",
       "    'rating': 4,\n",
       "    'relative_time_description': '5 months ago',\n",
       "    'text': 'Great food & service. Pleasant staff. I had the Thai sea bass - really good -  would have loved a few stir fried veg with it but the fish was yummy.',\n",
       "    'time': 1663533414,\n",
       "    'translated': False}],\n",
       "  'types': ['cafe',\n",
       "   'bar',\n",
       "   'lodging',\n",
       "   'restaurant',\n",
       "   'point_of_interest',\n",
       "   'food',\n",
       "   'establishment'],\n",
       "  'url': 'https://maps.google.com/?cid=2853382309083390608',\n",
       "  'user_ratings_total': 1418,\n",
       "  'vicinity': 'Main Street, Leighlinbridge',\n",
       "  'website': 'http://www.lordbagenal.com/'},\n",
       " 'status': 'OK'}"
      ]
     },
     "execution_count": 6,
     "metadata": {},
     "output_type": "execute_result"
    }
   ],
   "source": [
    "fetch_result"
   ]
  },
  {
   "cell_type": "code",
   "execution_count": 7,
   "id": "261f7213-740f-4f33-b5f5-838cbeca1105",
   "metadata": {},
   "outputs": [
    {
     "name": "stdout",
     "output_type": "stream",
     "text": [
      "html_attributions\n",
      "result\n",
      "status\n"
     ]
    }
   ],
   "source": [
    "# Check the values of the place fetch \n",
    "for res in fetch_result:\n",
    "    print(res)"
   ]
  },
  {
   "cell_type": "code",
   "execution_count": 10,
   "id": "d1dcd7d2-e314-4052-808a-b658836b5276",
   "metadata": {},
   "outputs": [
    {
     "name": "stdout",
     "output_type": "stream",
     "text": [
      "business_status\n",
      "formatted_address\n",
      "name\n",
      "opening_hours\n",
      "plus_code\n",
      "rating\n",
      "reviews\n",
      "types\n",
      "url\n",
      "user_ratings_total\n",
      "vicinity\n",
      "website\n"
     ]
    }
   ],
   "source": [
    "# We only want the result \n",
    "for res in fetch_result['result']:\n",
    "    print(res) # This are all the fields that we asked for (if such value exists)"
   ]
  },
  {
   "cell_type": "code",
   "execution_count": 13,
   "id": "dc6a46d3-f9dd-480d-bcb9-f73861205b0e",
   "metadata": {},
   "outputs": [
    {
     "name": "stdout",
     "output_type": "stream",
     "text": [
      "{'compound_code': 'P2PF+H8 Leighlinbridge, County Carlow, Ireland', 'global_code': '9C4MP2PF+H8'}\n"
     ]
    }
   ],
   "source": [
    "# We can print them one by one like this\n",
    "print(fetch_result['result']['plus_code'])"
   ]
  },
  {
   "cell_type": "code",
   "execution_count": null,
   "id": "699ecd92-9eed-48ae-b5b2-8c0094e41fc5",
   "metadata": {},
   "outputs": [],
   "source": []
  }
 ],
 "metadata": {
  "kernelspec": {
   "display_name": "Python 3 (ipykernel)",
   "language": "python",
   "name": "python3"
  },
  "language_info": {
   "codemirror_mode": {
    "name": "ipython",
    "version": 3
   },
   "file_extension": ".py",
   "mimetype": "text/x-python",
   "name": "python",
   "nbconvert_exporter": "python",
   "pygments_lexer": "ipython3",
   "version": "3.8.13"
  }
 },
 "nbformat": 4,
 "nbformat_minor": 5
}
