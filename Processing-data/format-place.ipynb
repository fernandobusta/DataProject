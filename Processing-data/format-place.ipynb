{
 "cells": [
  {
   "cell_type": "code",
   "execution_count": 7,
   "id": "c801c366-d36d-48aa-a3d4-ba61eaeed92b",
   "metadata": {},
   "outputs": [],
   "source": [
    "import googlemaps\n",
    "#import pprint\n",
    "import time\n",
    "import sys\n",
    "import pandas as pd\n",
    "import json\n",
    "import datetime"
   ]
  },
  {
   "cell_type": "code",
   "execution_count": 8,
   "id": "60c1a757-157b-49ad-aa60-da4d0fc1ae7d",
   "metadata": {},
   "outputs": [],
   "source": [
    "from apiK import *"
   ]
  },
  {
   "cell_type": "code",
   "execution_count": 9,
   "id": "99c2552b",
   "metadata": {},
   "outputs": [],
   "source": [
    "place_id_starbucks = 'ChIJrSMK3IIoQg0Rav9ooGbsHMY'"
   ]
  },
  {
   "cell_type": "code",
   "execution_count": 10,
   "id": "a0400700-e49b-4333-af83-a378859a59a0",
   "metadata": {},
   "outputs": [],
   "source": [
    "# This is the unique id of a place in Google maps\n",
    "place_id = 'ChIJrVO2iWhEXUgRkKJMnRdAmSc'"
   ]
  },
  {
   "cell_type": "code",
   "execution_count": 11,
   "id": "4a3e2a7f-6c6a-40ff-a3ad-cd81b1752089",
   "metadata": {},
   "outputs": [],
   "source": [
    "# Define our API key\n",
    "API_KEY = api_key()"
   ]
  },
  {
   "cell_type": "code",
   "execution_count": 12,
   "id": "b14b388d-5d93-4904-9e13-df6215e705e1",
   "metadata": {},
   "outputs": [],
   "source": [
    "# Define our clients\n",
    "gmaps = googlemaps.Client(key = API_KEY) # authenticate to make a request"
   ]
  },
  {
   "cell_type": "code",
   "execution_count": 13,
   "id": "fcbde9e4-1991-4121-a873-056183f46831",
   "metadata": {},
   "outputs": [],
   "source": [
    "# Define the fields we want sent back to us\n",
    "# page to see fields: https://developers.google.com/maps/documentation/places/web-service/details\n",
    "my_fields = ['business_status', 'formatted_address', 'name', 'opening_hours', 'plus_code', 'price_level', 'rating','review', 'type', 'url', 'user_ratings_total', 'vicinity', 'website']"
   ]
  },
  {
   "cell_type": "code",
   "execution_count": null,
   "id": "7aad5aa4-8968-4487-8d3e-6cb7dfd8d70e",
   "metadata": {},
   "outputs": [],
   "source": [
    "# make a request for the details\n",
    "place_details = gmaps.place(place_id = place_id, fields = my_fields)"
   ]
  },
  {
   "cell_type": "code",
   "execution_count": 14,
   "id": "afc1fbc8",
   "metadata": {},
   "outputs": [],
   "source": [
    "starbucks_details = gmaps.place(place_id=place_id_starbucks, fields=my_fields)"
   ]
  },
  {
   "cell_type": "code",
   "execution_count": 15,
   "id": "5a909f82",
   "metadata": {},
   "outputs": [
    {
     "data": {
      "text/plain": [
       "{'html_attributions': [],\n",
       " 'result': {'business_status': 'OPERATIONAL',\n",
       "  'formatted_address': 'Pl. Canovas del Castillo, 5, 28005 Madrid, Spain',\n",
       "  'name': 'Starbucks',\n",
       "  'opening_hours': {'open_now': True,\n",
       "   'periods': [{'close': {'day': 0, 'time': '2230'},\n",
       "     'open': {'day': 0, 'time': '0730'}},\n",
       "    {'close': {'day': 1, 'time': '2200'}, 'open': {'day': 1, 'time': '0730'}},\n",
       "    {'close': {'day': 2, 'time': '2200'}, 'open': {'day': 2, 'time': '0730'}},\n",
       "    {'close': {'day': 3, 'time': '2200'}, 'open': {'day': 3, 'time': '0730'}},\n",
       "    {'close': {'day': 4, 'time': '2200'}, 'open': {'day': 4, 'time': '0730'}},\n",
       "    {'close': {'day': 5, 'time': '2230'}, 'open': {'day': 5, 'time': '0730'}},\n",
       "    {'close': {'day': 6, 'time': '2230'}, 'open': {'day': 6, 'time': '0730'}}],\n",
       "   'weekday_text': ['Monday: 7:30\\u202fAM\\u2009–\\u200910:00\\u202fPM',\n",
       "    'Tuesday: 7:30\\u202fAM\\u2009–\\u200910:00\\u202fPM',\n",
       "    'Wednesday: 7:30\\u202fAM\\u2009–\\u200910:00\\u202fPM',\n",
       "    'Thursday: 7:30\\u202fAM\\u2009–\\u200910:00\\u202fPM',\n",
       "    'Friday: 7:30\\u202fAM\\u2009–\\u200910:30\\u202fPM',\n",
       "    'Saturday: 7:30\\u202fAM\\u2009–\\u200910:30\\u202fPM',\n",
       "    'Sunday: 7:30\\u202fAM\\u2009–\\u200910:30\\u202fPM']},\n",
       "  'plus_code': {'compound_code': 'C873+XX Madrid, Spain',\n",
       "   'global_code': '8CGRC873+XX'},\n",
       "  'price_level': 2,\n",
       "  'rating': 3.8,\n",
       "  'reviews': [{'author_name': 'Inbal Geva Oren',\n",
       "    'author_url': 'https://www.google.com/maps/contrib/102142377526203326745/reviews',\n",
       "    'language': 'en',\n",
       "    'original_language': 'en',\n",
       "    'profile_photo_url': 'https://lh3.googleusercontent.com/a-/ACB-R5SIvg6BExuRaXMKmjHpCzJlM_n_6XVwAL2n6GgL=s128-c0x00000000-cc-rp-mo-ba5',\n",
       "    'rating': 5,\n",
       "    'relative_time_description': 'a year ago',\n",
       "    'text': 'Lovely starbucks branch:) Interior is cozy and beautifully decorated and quite spacious - can sit inside or out. Service was very friendly, and generally, this branch is all about minimizing plastic use which is terrific. We got two pastries and cappuccinos and it was fresh and delicious.',\n",
       "    'time': 1632126396,\n",
       "    'translated': False},\n",
       "   {'author_name': 'Emma Schouten',\n",
       "    'author_url': 'https://www.google.com/maps/contrib/109893192035565505240/reviews',\n",
       "    'language': 'en',\n",
       "    'original_language': 'en',\n",
       "    'profile_photo_url': 'https://lh3.googleusercontent.com/a-/ACB-R5QkR-pqS0ypLRnk7XEYk8OrRrabtTiTlJM-_zacJw=s128-c0x00000000-cc-rp-mo-ba5',\n",
       "    'rating': 5,\n",
       "    'relative_time_description': '2 months ago',\n",
       "    'text': 'This was my second Starbucks in Madrid. The first one, I struggled a little with the Spanish but managed, here, the young man behind the counter immediately switched to English and was very helpful and nice. I had the Toffee Nut Latte, which I think might be a temporary drink on the menu and it was soooo good!',\n",
       "    'time': 1670252739,\n",
       "    'translated': False},\n",
       "   {'author_name': 'Rungu Puput Herlambang',\n",
       "    'author_url': 'https://www.google.com/maps/contrib/107434734978467792881/reviews',\n",
       "    'language': 'en',\n",
       "    'original_language': 'en',\n",
       "    'profile_photo_url': 'https://lh3.googleusercontent.com/a-/ACB-R5T3xg_Q9fQ0Q6_VDwskaRZnW6Ucnli_hdKt7U7N=s128-c0x00000000-cc-rp-mo-ba3',\n",
       "    'rating': 1,\n",
       "    'relative_time_description': '10 months ago',\n",
       "    'text': 'One of the worst Starbucks ever, or probably THE worst in Spain.\\nThe toilets are as filthy as human can imagine. They run out of everything: lids, soy milk, forks. The spoon  given to me is still plastic which is ewh, and to top all that there are only three electircal sockets!!! What kind of Starbucks only has three electircal sockets in the entire place?? Sigh.',\n",
       "    'time': 1651600730,\n",
       "    'translated': False},\n",
       "   {'author_name': 'Gianluca Milanesi',\n",
       "    'author_url': 'https://www.google.com/maps/contrib/102537394884468330968/reviews',\n",
       "    'language': 'en',\n",
       "    'original_language': 'en',\n",
       "    'profile_photo_url': 'https://lh3.googleusercontent.com/a-/ACB-R5QrC2kAU9S__V7pBOdc41R5bwfssctVbk5vvRsQr_c=s128-c0x00000000-cc-rp-mo-ba6',\n",
       "    'rating': 4,\n",
       "    'relative_time_description': '9 months ago',\n",
       "    'text': 'solid location, big and clean near the Prado Museum\\nfast and professional staff',\n",
       "    'time': 1653897508,\n",
       "    'translated': False},\n",
       "   {'author_name': 'James Lee',\n",
       "    'author_url': 'https://www.google.com/maps/contrib/117039064012255690545/reviews',\n",
       "    'language': 'en',\n",
       "    'original_language': 'en',\n",
       "    'profile_photo_url': 'https://lh3.googleusercontent.com/a-/ACB-R5THLsQX1Fme-a1AdyLW94uEt3aU2ibGoDz9coKed-o=s128-c0x00000000-cc-rp-mo-ba3',\n",
       "    'rating': 4,\n",
       "    'relative_time_description': '5 months ago',\n",
       "    'text': 'We had breakfast at this branch in Madrid a few weeks ago before.our tour to Toledo. I was pleasantly surprised by the sandwiches with a Spanish flare  being offered! Nice to see a different offering from traditional USA menu!!',\n",
       "    'time': 1664738923,\n",
       "    'translated': False}],\n",
       "  'types': ['cafe',\n",
       "   'bakery',\n",
       "   'restaurant',\n",
       "   'food',\n",
       "   'point_of_interest',\n",
       "   'store',\n",
       "   'establishment'],\n",
       "  'url': 'https://maps.google.com/?cid=14275544844379684714',\n",
       "  'user_ratings_total': 1750,\n",
       "  'vicinity': 'Plaza Canovas del Castillo, 5, Madrid',\n",
       "  'website': 'https://www.starbucks.es/?utm_source=directorios&utm_medium=organic&utm_campaign=estatica_directorios&utm_content=sitio_web'},\n",
       " 'status': 'OK'}"
      ]
     },
     "execution_count": 15,
     "metadata": {},
     "output_type": "execute_result"
    }
   ],
   "source": [
    "starbucks_details"
   ]
  },
  {
   "cell_type": "code",
   "execution_count": null,
   "id": "317afb14-1bf7-4593-aa6e-40b1ecaaf65f",
   "metadata": {},
   "outputs": [],
   "source": [
    "# This is what the call gives back to us\n",
    "place_details"
   ]
  },
  {
   "cell_type": "code",
   "execution_count": null,
   "id": "de31d54a-105b-4498-a72a-5727556d1219",
   "metadata": {},
   "outputs": [],
   "source": [
    "# Saving everything in results, to not run the call again\n",
    "fetch_result = {'html_attributions': [],\n",
    " 'result': {'business_status': 'OPERATIONAL',\n",
    "  'formatted_address': 'Main St, Ballyknockan, Leighlinbridge, Co. Carlow, R93 E189, Ireland',\n",
    "  'name': 'Lord Bagenal Inn',\n",
    "  'opening_hours': {'open_now': True,\n",
    "   'periods': [{'open': {'day': 0, 'time': '0000'}}],\n",
    "   'weekday_text': ['Monday: Open 24 hours',\n",
    "    'Tuesday: Open 24 hours',\n",
    "    'Wednesday: Open 24 hours',\n",
    "    'Thursday: Open 24 hours',\n",
    "    'Friday: Open 24 hours',\n",
    "    'Saturday: Open 24 hours',\n",
    "    'Sunday: Open 24 hours']},\n",
    "  'plus_code': {'compound_code': 'P2PF+H8 Leighlinbridge, County Carlow, Ireland',\n",
    "   'global_code': '9C4MP2PF+H8'},\n",
    "  'rating': 4.5,\n",
    "  'reviews': [{'author_name': 'moonshineminx1',\n",
    "    'author_url': 'https://www.google.com/maps/contrib/109720901335390464538/reviews',\n",
    "    'language': 'en',\n",
    "    'original_language': 'en',\n",
    "    'profile_photo_url': 'https://lh3.googleusercontent.com/a/AEdFTp5oc7z1RB5O_w8lAoxS5Mz-GS5VEoGYjVEamLJ_=s128-c0x00000000-cc-rp-mo',\n",
    "    'rating': 5,\n",
    "    'relative_time_description': '5 months ago',\n",
    "    'text': \"We had a first class meal - both took the battered hake. The fish was delicious, large portion, light batter, really enjoyed it. The surroundings are full of character, the meal arrived quickly and the staff were really helpful and attentive. We'll definately go back next time we're in the area.\",\n",
    "    'time': 1661808204,\n",
    "    'translated': False},\n",
    "   {'author_name': 'Amy Brennan',\n",
    "    'author_url': 'https://www.google.com/maps/contrib/101208999719543819132/reviews',\n",
    "    'language': 'en',\n",
    "    'original_language': 'en',\n",
    "    'profile_photo_url': 'https://lh3.googleusercontent.com/a-/AD5-WCmzReTr_Os5HJFS7n0-StUwF46DFgdnGeLctHCdMA=s128-c0x00000000-cc-rp-mo',\n",
    "    'rating': 5,\n",
    "    'relative_time_description': '3 months ago',\n",
    "    'text': 'A world class hotel! Beautiful and classically decorated. Service was outstanding. Staff were\\nprofessional, attentive & kind; went above and beyond to cater to us. Food was delicious, bed super comfy and facilities brilliant. Will be back!',\n",
    "    'time': 1669029025,\n",
    "    'translated': False},\n",
    "   {'author_name': 'Martin Kyle Jensen Kellerman',\n",
    "    'author_url': 'https://www.google.com/maps/contrib/100432243203795625555/reviews',\n",
    "    'language': 'en',\n",
    "    'original_language': 'en',\n",
    "    'profile_photo_url': 'https://lh3.googleusercontent.com/a-/AD5-WCmlPf6sZBGl8Zw9Da2GLvSUyfp-F4Ia7kaeW-toPw=s128-c0x00000000-cc-rp-mo',\n",
    "    'rating': 5,\n",
    "    'relative_time_description': '5 months ago',\n",
    "    'text': 'Always a pleasure to visit. The restaurant has amazing staff. Excellent choices on the menu with fresh produce. You can see a lot of love and attention that goes into their menus, taste and service',\n",
    "    'time': 1663083430,\n",
    "    'translated': False},\n",
    "   {'author_name': 'Robert McGivern',\n",
    "    'author_url': 'https://www.google.com/maps/contrib/112588598986974491135/reviews',\n",
    "    'language': 'en',\n",
    "    'original_language': 'en',\n",
    "    'profile_photo_url': 'https://lh3.googleusercontent.com/a-/AD5-WCnNYBQYQ4ndnAup1wIb0sVNBxsEhUtzLu24BN77=s128-c0x00000000-cc-rp-mo-ba3',\n",
    "    'rating': 4,\n",
    "    'relative_time_description': '4 months ago',\n",
    "    'text': 'Spent a week long break in the area,\\nand were here three times for food.\\nSunday carvery is quite good, also evening menu, which we sampled twice.\\nStaff very nice and helpful.',\n",
    "    'time': 1664272635,\n",
    "    'translated': False},\n",
    "   {'author_name': 'Eileen Carr',\n",
    "    'author_url': 'https://www.google.com/maps/contrib/115481605440957449984/reviews',\n",
    "    'language': 'en',\n",
    "    'original_language': 'en',\n",
    "    'profile_photo_url': 'https://lh3.googleusercontent.com/a/AEdFTp5j4rd1Tm8iSe8rqO366WXsCHbTlJrPiuCoJopy=s128-c0x00000000-cc-rp-mo',\n",
    "    'rating': 4,\n",
    "    'relative_time_description': '5 months ago',\n",
    "    'text': 'Great food & service. Pleasant staff. I had the Thai sea bass - really good -  would have loved a few stir fried veg with it but the fish was yummy.',\n",
    "    'time': 1663533414,\n",
    "    'translated': False}],\n",
    "  'types': ['cafe',\n",
    "   'bar',\n",
    "   'lodging',\n",
    "   'restaurant',\n",
    "   'point_of_interest',\n",
    "   'food',\n",
    "   'establishment'],\n",
    "  'url': 'https://maps.google.com/?cid=2853382309083390608',\n",
    "  'user_ratings_total': 1418,\n",
    "  'vicinity': 'Main Street, Leighlinbridge',\n",
    "  'website': 'http://www.lordbagenal.com/'},\n",
    " 'status': 'OK'}"
   ]
  },
  {
   "cell_type": "code",
   "execution_count": null,
   "id": "896c57ef-318d-458b-9024-606cd3e02834",
   "metadata": {},
   "outputs": [],
   "source": [
    "fetch_result"
   ]
  },
  {
   "cell_type": "code",
   "execution_count": null,
   "id": "261f7213-740f-4f33-b5f5-838cbeca1105",
   "metadata": {},
   "outputs": [],
   "source": [
    "# Check the values of the place fetch \n",
    "for res in fetch_result:\n",
    "    print(res)"
   ]
  },
  {
   "cell_type": "code",
   "execution_count": null,
   "id": "d1dcd7d2-e314-4052-808a-b658836b5276",
   "metadata": {},
   "outputs": [],
   "source": [
    "# We only want the result \n",
    "for res in fetch_result['result']:\n",
    "    print(res) # This are all the fields that we asked for (if such value exists)"
   ]
  },
  {
   "cell_type": "code",
   "execution_count": null,
   "id": "dc6a46d3-f9dd-480d-bcb9-f73861205b0e",
   "metadata": {},
   "outputs": [],
   "source": [
    "# We can print them one by one like this\n",
    "print(fetch_result['result']['business_status'])"
   ]
  },
  {
   "cell_type": "markdown",
   "id": "d74b7c4a-db15-4e1c-9038-7dbc24e4e141",
   "metadata": {
    "tags": []
   },
   "source": [
    "# Format Values one by one"
   ]
  },
  {
   "cell_type": "markdown",
   "id": "8214c2b7-5558-485f-abf8-ef3a93cabfd5",
   "metadata": {},
   "source": [
    "## business_status"
   ]
  },
  {
   "cell_type": "code",
   "execution_count": null,
   "id": "0f67981d-b7c0-46d4-9a62-925111cc08e4",
   "metadata": {},
   "outputs": [],
   "source": [
    "print(fetch_result['result']['business_status'])"
   ]
  },
  {
   "cell_type": "markdown",
   "id": "4df5e528-857f-488c-b25a-425b630fd9d6",
   "metadata": {},
   "source": [
    "## formatted_address"
   ]
  },
  {
   "cell_type": "code",
   "execution_count": null,
   "id": "7b6aa54a-42b6-451e-baa3-3ab078ecab7f",
   "metadata": {},
   "outputs": [],
   "source": [
    "print(fetch_result['result']['formatted_address'])"
   ]
  },
  {
   "cell_type": "markdown",
   "id": "5e8e8d55-d149-42bf-a344-428d8493a801",
   "metadata": {},
   "source": [
    "## name"
   ]
  },
  {
   "cell_type": "code",
   "execution_count": null,
   "id": "a3832c3f-b0dc-49ff-b573-2a4a618e7b99",
   "metadata": {},
   "outputs": [],
   "source": [
    "print(fetch_result['result']['name'])"
   ]
  },
  {
   "cell_type": "markdown",
   "id": "23df7dfe-278a-4718-8337-af9af189b4c4",
   "metadata": {},
   "source": [
    "## opening_hours"
   ]
  },
  {
   "cell_type": "code",
   "execution_count": null,
   "id": "181153a9-8715-46d5-874c-03f1720656f5",
   "metadata": {},
   "outputs": [],
   "source": [
    "opening_hours = fetch_result['result']['opening_hours']\n",
    "opening_hours"
   ]
  },
  {
   "cell_type": "markdown",
   "id": "77addb7f-7f39-479d-ac7f-fdd9be802fb2",
   "metadata": {},
   "source": [
    "## plus_code"
   ]
  },
  {
   "cell_type": "code",
   "execution_count": null,
   "id": "d17ae878-72e7-485f-bda5-13f9b0df8a12",
   "metadata": {},
   "outputs": [],
   "source": [
    "plus_code = fetch_result['result']['plus_code']\n",
    "plus_code"
   ]
  },
  {
   "cell_type": "markdown",
   "id": "8e326fb4-0e75-4b03-af10-2fc2f36c92ba",
   "metadata": {},
   "source": [
    "## rating"
   ]
  },
  {
   "cell_type": "code",
   "execution_count": null,
   "id": "6d1ca690-7d3b-4b72-964d-d883bdc8fac2",
   "metadata": {},
   "outputs": [],
   "source": [
    "rating = fetch_result['result']['rating']\n",
    "rating"
   ]
  },
  {
   "cell_type": "markdown",
   "id": "96ba626a-7e62-47fc-9968-1628b1b4535f",
   "metadata": {},
   "source": [
    "## reviews"
   ]
  },
  {
   "cell_type": "code",
   "execution_count": null,
   "id": "0ac73c8d-7cc4-4b67-bdc0-10331fdb0743",
   "metadata": {},
   "outputs": [],
   "source": [
    "reviews = fetch_result['result']['reviews']\n",
    "reviews"
   ]
  },
  {
   "cell_type": "code",
   "execution_count": null,
   "id": "a8fea61c-03f9-48c7-b2c6-f35e47327712",
   "metadata": {},
   "outputs": [],
   "source": [
    "# Work with one review\n",
    "reviews[0]"
   ]
  },
  {
   "cell_type": "code",
   "execution_count": null,
   "id": "f89c1cc8-9fd1-41b0-a97d-4543f27727bd",
   "metadata": {},
   "outputs": [],
   "source": [
    "# All fields from a single review\n",
    "for rev_field in reviews[0]:\n",
    "    print(rev_field)"
   ]
  },
  {
   "cell_type": "code",
   "execution_count": null,
   "id": "1a8f01f1-3184-4c79-a817-46e424c24e06",
   "metadata": {},
   "outputs": [],
   "source": [
    "data_single_review = { 'author_name': 'moonshineminx1',\n",
    "                      'author_url': 'https://www.google.com/maps/contrib/109720901335390464538/reviews',\n",
    "                      'language': 'en'\n",
    "                     }"
   ]
  },
  {
   "cell_type": "code",
   "execution_count": null,
   "id": "edf04281-ad49-4ab7-8aaf-e169ce88145a",
   "metadata": {},
   "outputs": [],
   "source": [
    "# Creating pandas dataframe\n",
    "reviews = fetch_result['result']['reviews']\n",
    "reviews_json = json.dumps(reviews) \n",
    "reviews_df = pd.read_json(reviews_json)"
   ]
  },
  {
   "cell_type": "code",
   "execution_count": null,
   "id": "f2a1f4b0-9ec8-479c-be94-ab63fd2a10d5",
   "metadata": {},
   "outputs": [],
   "source": [
    "reviews_df"
   ]
  },
  {
   "cell_type": "code",
   "execution_count": null,
   "id": "bea3203c-5d31-4037-be91-2c2a1e353443",
   "metadata": {},
   "outputs": [],
   "source": [
    "reviews_df_clean = reviews_df.drop(['author_url', 'language', 'time', 'profile_photo_url'], axis=1)\n",
    "reviews_df_clean"
   ]
  },
  {
   "cell_type": "code",
   "execution_count": null,
   "id": "1cfb109c-a1f4-4eec-8c97-d444255e98c9",
   "metadata": {},
   "outputs": [],
   "source": [
    "import matplotlib.pyplot as plt\n",
    "\n",
    "# Create a list of unique author names\n",
    "author_names = list(reviews_df_clean['author_name'].unique())\n",
    "\n",
    "# Create an empty dictionary to store average ratings for each author\n",
    "author_ratings = {}\n",
    "\n",
    "# Loop through each author name in the list\n",
    "for author in author_names:\n",
    "  # Filter the dataset by the author name\n",
    "  author_reviews = reviews_df_clean[reviews_df_clean['author_name'] == author]\n",
    "  # Calculate the average rating for the author\n",
    "  average_rating = author_reviews['rating'].mean()\n",
    "  # Store the average rating in the dictionary\n",
    "  author_ratings[author] = average_rating\n",
    "\n",
    "# Create a figure and an axis object\n",
    "fig, ax = plt.subplots()\n",
    "\n",
    "# Create a bar chart with author names on the x-axis and average ratings on the y-axis\n",
    "ax.bar(author_ratings.keys(), author_ratings.values(), color='darkblue', width=0.5, edgecolor='black')\n",
    "# Add labels and title to the chart\n",
    "ax.set_xlabel('Author Name')\n",
    "ax.set_ylabel('Average Rating')\n",
    "ax.set_title('Ratings for Each Person')\n",
    "# Remove grid lines from the chart\n",
    "ax.grid(False)\n",
    "# Add a legend to the chart\n",
    "ax.legend(['Average Rating'])\n",
    "# Adjust the size and rotation of the x-axis labels\n",
    "plt.xticks(rotation=45, fontsize=10)\n",
    "# Show the chart\n",
    "plt.show()"
   ]
  },
  {
   "cell_type": "code",
   "execution_count": null,
   "id": "47eac5fa-09df-4acc-a4f7-e2bde4913ba0",
   "metadata": {},
   "outputs": [],
   "source": [
    "import plotly.express as px\n",
    "\n",
    "author_names = list(reviews_df_clean['author_name'].unique())\n",
    "\n",
    "author_ratings = {}\n",
    "\n",
    "for author in author_names:\n",
    "    author_reviews = reviews_df_clean[reviews_df_clean['author_name'] == author]\n",
    "    average_rating = author_reviews['rating'].mean()\n",
    "    author_ratings[author] = average_rating\n",
    "    ratings_df = pd.DataFrame.from_dict(author_ratings, orient='index', columns=['Average Rating'])\n",
    "\n",
    "fig = px.bar(ratings_df, x=ratings_df.index, y='Average Rating', color='Average Rating', title='Ratings for Each Person')\n",
    "\n",
    "fig.show()"
   ]
  },
  {
   "cell_type": "markdown",
   "id": "c8895758-1297-4554-a21c-735fea8fc8b7",
   "metadata": {},
   "source": [
    "## types"
   ]
  },
  {
   "cell_type": "code",
   "execution_count": null,
   "id": "5a267faf-4012-45c3-8d74-5cb02a9a56e7",
   "metadata": {},
   "outputs": [],
   "source": [
    "types = fetch_result['result']['types']\n",
    "types"
   ]
  },
  {
   "cell_type": "markdown",
   "id": "93f035b5-dd13-4777-8b23-c75c6b0b7efb",
   "metadata": {},
   "source": [
    "## url"
   ]
  },
  {
   "cell_type": "code",
   "execution_count": null,
   "id": "13b9ea48-8c8d-4d6a-b3f1-02dc8c7d3e26",
   "metadata": {},
   "outputs": [],
   "source": [
    "print(fetch_result['result']['url'])"
   ]
  },
  {
   "cell_type": "markdown",
   "id": "5103531f-da82-423a-b681-95e2f9339b0d",
   "metadata": {},
   "source": [
    "## user_ratings_total"
   ]
  },
  {
   "cell_type": "code",
   "execution_count": null,
   "id": "aaf10e97-0d62-4717-bfeb-877a969a16d7",
   "metadata": {},
   "outputs": [],
   "source": [
    "print(fetch_result['result']['user_ratings_total'])"
   ]
  },
  {
   "cell_type": "markdown",
   "id": "dbfd31ff-508b-4861-9f96-3bd38b0c3633",
   "metadata": {},
   "source": [
    "## vicinity"
   ]
  },
  {
   "cell_type": "code",
   "execution_count": null,
   "id": "c8e2ef9c-9110-4a45-8e51-8beadb9facd6",
   "metadata": {},
   "outputs": [],
   "source": [
    "print(fetch_result['result']['vicinity'])"
   ]
  },
  {
   "cell_type": "markdown",
   "id": "0d992044-016e-4b99-8909-cfc39bdef300",
   "metadata": {},
   "source": [
    "## website"
   ]
  },
  {
   "cell_type": "code",
   "execution_count": null,
   "id": "f3c98968-1c42-4e3b-a9d7-6cbd97a47a73",
   "metadata": {},
   "outputs": [],
   "source": [
    "print(fetch_result['result']['website'])"
   ]
  },
  {
   "cell_type": "markdown",
   "id": "3e666e86-dfb1-4769-b7aa-2e279f7008b9",
   "metadata": {},
   "source": [
    "## Felix"
   ]
  },
  {
   "cell_type": "code",
   "execution_count": null,
   "id": "ffbf75d9-426a-463a-aa47-13e4261c212c",
   "metadata": {},
   "outputs": [],
   "source": []
  },
  {
   "cell_type": "code",
   "execution_count": null,
   "id": "ec71ccf6-8847-445b-b406-5197ca93d2c4",
   "metadata": {},
   "outputs": [],
   "source": [
    "# Parse response text as json object\n",
    "fetch_result_2 = response.json()\n",
    "\n",
    "# Flatten json object into dataframe\n",
    "fetch_result = pd.json_normalize(data[\"result\"])\n",
    "\n",
    "# Select columns you want (optional)\n",
    "fetch_result = fetch_result[[\"author_name\", \"author_url\", \"language\", \"types\"]]"
   ]
  }
 ],
 "metadata": {
  "kernelspec": {
   "display_name": "Python 3 (ipykernel)",
   "language": "python",
   "name": "python3"
  },
  "language_info": {
   "codemirror_mode": {
    "name": "ipython",
    "version": 3
   },
   "file_extension": ".py",
   "mimetype": "text/x-python",
   "name": "python",
   "nbconvert_exporter": "python",
   "pygments_lexer": "ipython3",
   "version": "3.10.9"
  },
  "vscode": {
   "interpreter": {
    "hash": "8e0e5045c3e4422ac09f66df856167f9e1940742f51ae99e001e02eec961a839"
   }
  }
 },
 "nbformat": 4,
 "nbformat_minor": 5
}
