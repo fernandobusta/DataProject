{
 "cells": [
  {
   "cell_type": "code",
   "execution_count": 12,
   "id": "191b020f-7237-45a3-b9a9-59ba7eb226c7",
   "metadata": {},
   "outputs": [],
   "source": [
    "import pandas as pd\n",
    "from results import *"
   ]
  },
  {
   "cell_type": "code",
   "execution_count": 18,
   "id": "4b41e442-7e18-43e4-97dd-fbf7f609e213",
   "metadata": {},
   "outputs": [
    {
     "data": {
      "text/plain": [
       "{'business_status': 'OPERATIONAL',\n",
       " 'geometry': {'location': {'lat': 52.73639579999999,\n",
       "   'lng': -6.976661199999999},\n",
       "  'viewport': {'northeast': {'lat': 52.73780043029149,\n",
       "    'lng': -6.974946219708498},\n",
       "   'southwest': {'lat': 52.73510246970849, 'lng': -6.977644180291502}}},\n",
       " 'icon': 'https://maps.gstatic.com/mapfiles/place_api/icons/v1/png_71/lodging-71.png',\n",
       " 'icon_background_color': '#909CE1',\n",
       " 'icon_mask_base_uri': 'https://maps.gstatic.com/mapfiles/place_api/icons/v2/hotel_pinlet',\n",
       " 'name': 'Lord Bagenal Inn',\n",
       " 'opening_hours': {'open_now': True},\n",
       " 'photos': [{'height': 1448,\n",
       "   'html_attributions': ['<a href=\"https://maps.google.com/maps/contrib/108728826861027019479\">Lord Bagenal Inn</a>'],\n",
       "   'photo_reference': 'AfLeUgPYrS9da2SYVenq3lxRrYLQqE8GnStLWVY6CiCmqDKx1JKZsUvjIxaw6oV5sOVpbGpBKPjY-KnwH0cjN5xUFb0okncHyCVSfDXdOVg5RDmHL4pezMx3G3-pyOQMAejJlx1W3xHc-2KoGfn_i9aSCqMdor29Jz88_1tlFFSojbU-yRKv',\n",
       "   'width': 1448}],\n",
       " 'place_id': 'ChIJrVO2iWhEXUgRkKJMnRdAmSc',\n",
       " 'plus_code': {'compound_code': 'P2PF+H8 Leighlinbridge, County Carlow, Ireland',\n",
       "  'global_code': '9C4MP2PF+H8'},\n",
       " 'rating': 4.4,\n",
       " 'reference': 'ChIJrVO2iWhEXUgRkKJMnRdAmSc',\n",
       " 'scope': 'GOOGLE',\n",
       " 'types': ['cafe',\n",
       "  'bar',\n",
       "  'lodging',\n",
       "  'restaurant',\n",
       "  'food',\n",
       "  'point_of_interest',\n",
       "  'establishment'],\n",
       " 'user_ratings_total': 1412,\n",
       " 'vicinity': 'Main Street, Leighlinbridge'}"
      ]
     },
     "execution_count": 18,
     "metadata": {},
     "output_type": "execute_result"
    }
   ],
   "source": [
    "eg_place = passSearch()['results'][0]\n",
    "eg_place"
   ]
  },
  {
   "cell_type": "code",
   "execution_count": 19,
   "id": "65239700-a367-4ae5-9803-8074c127365b",
   "metadata": {},
   "outputs": [
    {
     "data": {
      "text/plain": [
       "'ChIJrVO2iWhEXUgRkKJMnRdAmSc'"
      ]
     },
     "execution_count": 19,
     "metadata": {},
     "output_type": "execute_result"
    }
   ],
   "source": [
    "my_place_id = eg_place['place_id']\n",
    "my_place_id"
   ]
  },
  {
   "cell_type": "code",
   "execution_count": 20,
   "id": "9b004bdd-81d9-4d04-a592-5c575e25e049",
   "metadata": {},
   "outputs": [
    {
     "ename": "NameError",
     "evalue": "name 'plSearch' is not defined",
     "output_type": "error",
     "traceback": [
      "\u001b[0;31m---------------------------------------------------------------------------\u001b[0m",
      "\u001b[0;31mNameError\u001b[0m                                 Traceback (most recent call last)",
      "Cell \u001b[0;32mIn [20], line 1\u001b[0m\n\u001b[0;32m----> 1\u001b[0m pl_search \u001b[38;5;241m=\u001b[39m plSearch()\n",
      "\u001b[0;31mNameError\u001b[0m: name 'plSearch' is not defined"
     ]
    }
   ],
   "source": [
    "pl_search = plSearch()"
   ]
  },
  {
   "cell_type": "code",
   "execution_count": null,
   "id": "4e519f3e-01e0-4655-bf8f-a3980033a7e0",
   "metadata": {},
   "outputs": [],
   "source": []
  }
 ],
 "metadata": {
  "kernelspec": {
   "display_name": "Python 3 (ipykernel)",
   "language": "python",
   "name": "python3"
  },
  "language_info": {
   "codemirror_mode": {
    "name": "ipython",
    "version": 3
   },
   "file_extension": ".py",
   "mimetype": "text/x-python",
   "name": "python",
   "nbconvert_exporter": "python",
   "pygments_lexer": "ipython3",
   "version": "3.8.13"
  }
 },
 "nbformat": 4,
 "nbformat_minor": 5
}
